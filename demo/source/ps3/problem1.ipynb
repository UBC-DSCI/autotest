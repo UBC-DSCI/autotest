{
 "cells": [
  {
   "cell_type": "markdown",
   "id": "26caf5bf",
   "metadata": {
    "nbgrader": {
     "grade": false,
     "grade_id": "cell-388aada3e2c4987c",
     "locked": true,
     "schema_version": 3,
     "solution": false,
     "task": false
    }
   },
   "source": [
    "### str"
   ]
  },
  {
   "cell_type": "code",
   "execution_count": 7,
   "id": "10810eb7",
   "metadata": {
    "nbgrader": {
     "grade": false,
     "grade_id": "cell-5db49a51603c3906",
     "locked": false,
     "schema_version": 3,
     "solution": true,
     "task": false
    }
   },
   "outputs": [],
   "source": [
    "# sample_string = 'Hello'\n",
    "\n",
    "### BEGIN SOLUTION\n",
    "sample_string = 'Hello'\n",
    "### END SOLUTION"
   ]
  },
  {
   "cell_type": "code",
   "execution_count": 8,
   "id": "ad98e220",
   "metadata": {
    "nbgrader": {
     "grade": true,
     "grade_id": "cell-8ce1c8adb2dc6ec3",
     "locked": true,
     "points": 1,
     "schema_version": 3,
     "solution": false,
     "task": false
    }
   },
   "outputs": [],
   "source": [
    "### AUTOTEST sample_string\n",
    "### HASHED AUTOTEST sample_string"
   ]
  },
  {
   "cell_type": "markdown",
   "id": "ca5fecbe",
   "metadata": {
    "nbgrader": {
     "grade": false,
     "grade_id": "cell-9fe9dda60f1c265b",
     "locked": true,
     "schema_version": 3,
     "solution": false,
     "task": false
    }
   },
   "source": [
    "### int"
   ]
  },
  {
   "cell_type": "code",
   "execution_count": 9,
   "id": "41fe5dd6",
   "metadata": {
    "nbgrader": {
     "grade": false,
     "grade_id": "cell-20ef3939e635dabb",
     "locked": false,
     "schema_version": 3,
     "solution": true,
     "task": false
    }
   },
   "outputs": [],
   "source": [
    "# sample_int = 35\n",
    "\n",
    "### BEGIN SOLUTION\n",
    "sample_int = 35\n",
    "### END SOLUTION"
   ]
  },
  {
   "cell_type": "code",
   "execution_count": 10,
   "id": "4e0655b4",
   "metadata": {
    "nbgrader": {
     "grade": true,
     "grade_id": "cell-138112d9b5ae4caa",
     "locked": true,
     "points": 0,
     "schema_version": 3,
     "solution": false,
     "task": false
    }
   },
   "outputs": [],
   "source": [
    "### AUTOTEST sample_int\n",
    "### HASHED AUTOTEST sample_int"
   ]
  },
  {
   "cell_type": "markdown",
   "id": "b76851f9",
   "metadata": {
    "nbgrader": {
     "grade": false,
     "grade_id": "cell-94e16460ee9c1c32",
     "locked": true,
     "schema_version": 3,
     "solution": false,
     "task": false
    }
   },
   "source": [
    "### float"
   ]
  },
  {
   "cell_type": "code",
   "execution_count": 11,
   "id": "7950995f",
   "metadata": {
    "nbgrader": {
     "grade": false,
     "grade_id": "cell-0ad2fc0d71a06f59",
     "locked": false,
     "schema_version": 3,
     "solution": true,
     "task": false
    }
   },
   "outputs": [],
   "source": [
    "# sample_float = 35.98765345\n",
    "\n",
    "### BEGIN SOLUTION\n",
    "sample_float = 35.98765345\n",
    "### END SOLUTION"
   ]
  },
  {
   "cell_type": "code",
   "execution_count": 12,
   "id": "a0ac36c9",
   "metadata": {
    "nbgrader": {
     "grade": true,
     "grade_id": "cell-126da5a3faa851f1",
     "locked": true,
     "points": 0,
     "schema_version": 3,
     "solution": false,
     "task": false
    }
   },
   "outputs": [],
   "source": [
    "### AUTOTEST sample_float\n",
    "### HASHED AUTOTEST sample_float"
   ]
  },
  {
   "cell_type": "markdown",
   "id": "0f6012d4",
   "metadata": {
    "nbgrader": {
     "grade": false,
     "grade_id": "cell-aa3b390705d0b782",
     "locked": true,
     "schema_version": 3,
     "solution": false,
     "task": false
    }
   },
   "source": [
    "### list"
   ]
  },
  {
   "cell_type": "code",
   "execution_count": 13,
   "id": "7c6eb327",
   "metadata": {
    "nbgrader": {
     "grade": false,
     "grade_id": "cell-43678e65bae42fd4",
     "locked": false,
     "schema_version": 3,
     "solution": true,
     "task": false
    }
   },
   "outputs": [],
   "source": [
    "# sample_list = [1, 'b', \"a\", 4.5]\n",
    "\n",
    "### BEGIN SOLUTION\n",
    "sample_list = [1, 'b', \"a\", 4.5]\n",
    "### END SOLUTION"
   ]
  },
  {
   "cell_type": "code",
   "execution_count": 14,
   "id": "5371d8e3",
   "metadata": {
    "nbgrader": {
     "grade": true,
     "grade_id": "cell-c474a81d248cbe37",
     "locked": true,
     "points": 0,
     "schema_version": 3,
     "solution": false,
     "task": false
    }
   },
   "outputs": [],
   "source": [
    "### AUTOTEST sample_list\n",
    "### HASHED AUTOTEST sample_list"
   ]
  },
  {
   "cell_type": "markdown",
   "id": "4987dfcf",
   "metadata": {
    "nbgrader": {
     "grade": false,
     "grade_id": "cell-3da84b66de43e529",
     "locked": true,
     "schema_version": 3,
     "solution": false,
     "task": false
    }
   },
   "source": [
    "### set"
   ]
  },
  {
   "cell_type": "code",
   "execution_count": 15,
   "id": "80dd453e",
   "metadata": {
    "nbgrader": {
     "grade": false,
     "grade_id": "cell-fe5861008f297022",
     "locked": false,
     "schema_version": 3,
     "solution": true,
     "task": false
    }
   },
   "outputs": [],
   "source": [
    "# sample_set = {1, 2, 3, 4, 5}\n",
    "\n",
    "### BEGIN SOLUTION\n",
    "sample_set = {1, 2, 3, 4, 5}\n",
    "### END SOLUTION"
   ]
  },
  {
   "cell_type": "code",
   "execution_count": 16,
   "id": "7fd108f4",
   "metadata": {
    "nbgrader": {
     "grade": true,
     "grade_id": "cell-5e1c667195b47187",
     "locked": true,
     "points": 0,
     "schema_version": 3,
     "solution": false,
     "task": false
    }
   },
   "outputs": [],
   "source": [
    "### AUTOTEST sample_set\n",
    "### HASHED AUTOTEST sample_set"
   ]
  },
  {
   "cell_type": "markdown",
   "id": "f2305cf0",
   "metadata": {
    "nbgrader": {
     "grade": false,
     "grade_id": "cell-b22271d2bfd217fb",
     "locked": true,
     "schema_version": 3,
     "solution": false,
     "task": false
    }
   },
   "source": [
    "### tuple"
   ]
  },
  {
   "cell_type": "code",
   "execution_count": 17,
   "id": "fbe49d0f",
   "metadata": {
    "nbgrader": {
     "grade": false,
     "grade_id": "cell-a971551f5f91de4b",
     "locked": false,
     "schema_version": 3,
     "solution": true,
     "task": false
    }
   },
   "outputs": [],
   "source": [
    "# sample_tuple = (23, 78)\n",
    "\n",
    "### BEGIN SOLUTION\n",
    "sample_tuple = (23, 78)\n",
    "### END SOLUTION"
   ]
  },
  {
   "cell_type": "code",
   "execution_count": 18,
   "id": "e493450e",
   "metadata": {
    "nbgrader": {
     "grade": true,
     "grade_id": "cell-48cfa5ac37cdd98b",
     "locked": true,
     "points": 0,
     "schema_version": 3,
     "solution": false,
     "task": false
    }
   },
   "outputs": [],
   "source": [
    "### AUTOTEST sample_tuple\n",
    "### HASHED AUTOTEST sample_tuple"
   ]
  },
  {
   "cell_type": "markdown",
   "id": "ad7d3b3e",
   "metadata": {
    "nbgrader": {
     "grade": false,
     "grade_id": "cell-dcda5109f0218e5e",
     "locked": true,
     "schema_version": 3,
     "solution": false,
     "task": false
    }
   },
   "source": [
    "### dict"
   ]
  },
  {
   "cell_type": "code",
   "execution_count": 19,
   "id": "8183cb03",
   "metadata": {
    "nbgrader": {
     "grade": false,
     "grade_id": "cell-ddabbd9234db36c0",
     "locked": false,
     "schema_version": 3,
     "solution": true,
     "task": false
    }
   },
   "outputs": [],
   "source": [
    "# sample_dict = {'a': 1, 'b': 2, \"c\": 3}\n",
    "\n",
    "### BEGIN SOLUTION\n",
    "sample_dict = {'a': 1, 'b': 2, \"c\": 3}\n",
    "### END SOLUTION"
   ]
  },
  {
   "cell_type": "code",
   "execution_count": 20,
   "id": "7afb9da1",
   "metadata": {
    "nbgrader": {
     "grade": true,
     "grade_id": "cell-b8b1ad86fbbe578f",
     "locked": true,
     "points": 0,
     "schema_version": 3,
     "solution": false,
     "task": false
    }
   },
   "outputs": [],
   "source": [
    "### AUTOTEST sample_dict\n",
    "### HASHED AUTOTEST sample_dict"
   ]
  },
  {
   "cell_type": "markdown",
   "id": "7c66eaec",
   "metadata": {
    "nbgrader": {
     "grade": false,
     "grade_id": "cell-415773d39cf1a418",
     "locked": true,
     "schema_version": 3,
     "solution": false,
     "task": false
    }
   },
   "source": [
    "### bool"
   ]
  },
  {
   "cell_type": "code",
   "execution_count": 21,
   "id": "1ec2caec",
   "metadata": {
    "nbgrader": {
     "grade": false,
     "grade_id": "cell-e807929d33f8deb6",
     "locked": false,
     "schema_version": 3,
     "solution": true,
     "task": false
    }
   },
   "outputs": [],
   "source": [
    "# sample_bool = True\n",
    "\n",
    "### BEGIN SOLUTION\n",
    "sample_bool = True\n",
    "### END SOLUTION"
   ]
  },
  {
   "cell_type": "code",
   "execution_count": 22,
   "id": "bb91ba4e",
   "metadata": {
    "nbgrader": {
     "grade": true,
     "grade_id": "cell-cf2f289017808ac8",
     "locked": true,
     "points": 0,
     "schema_version": 3,
     "solution": false,
     "task": false
    }
   },
   "outputs": [],
   "source": [
    "### AUTOTEST sample_bool\n",
    "### HASHED AUTOTEST sample_bool"
   ]
  },
  {
   "cell_type": "code",
   "execution_count": null,
   "id": "96b663ca",
   "metadata": {},
   "outputs": [],
   "source": []
  }
 ],
 "metadata": {
  "celltoolbar": "Create Assignment",
  "kernelspec": {
   "display_name": "Python 3 (ipykernel)",
   "language": "python",
   "name": "python3"
  },
  "language_info": {
   "codemirror_mode": {
    "name": "ipython",
    "version": 3
   },
   "file_extension": ".py",
   "mimetype": "text/x-python",
   "name": "python",
   "nbconvert_exporter": "python",
   "pygments_lexer": "ipython3",
   "version": "3.9.12"
  }
 },
 "nbformat": 4,
 "nbformat_minor": 5
}
