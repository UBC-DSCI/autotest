{
 "cells": [
  {
   "cell_type": "markdown",
   "id": "26caf5bf",
   "metadata": {
    "deletable": false,
    "editable": false,
    "nbgrader": {
     "cell_type": "markdown",
     "checksum": "812c70ea006cd8ff30be8881abc0e18d",
     "grade": false,
     "grade_id": "cell-388aada3e2c4987c",
     "locked": true,
     "schema_version": 3,
     "solution": false,
     "task": false
    }
   },
   "source": [
    "### str"
   ]
  },
  {
   "cell_type": "code",
   "execution_count": null,
   "id": "10810eb7",
   "metadata": {
    "deletable": false,
    "nbgrader": {
     "cell_type": "code",
     "checksum": "7fb67c3da55a245e3e740a5b859c557a",
     "grade": false,
     "grade_id": "cell-5db49a51603c3906",
     "locked": false,
     "schema_version": 3,
     "solution": true,
     "task": false
    }
   },
   "outputs": [],
   "source": [
    "# sample_string = 'Hello'\n",
    "\n",
    "# YOUR CODE HERE\n",
    "raise NotImplementedError()"
   ]
  },
  {
   "cell_type": "code",
   "execution_count": null,
   "id": "ad98e220",
   "metadata": {
    "deletable": false,
    "editable": false,
    "max_height": 100,
    "nbgrader": {
     "cell_type": "code",
     "checksum": "310039564fc9c5a5d292df2a26c81265",
     "grade": true,
     "grade_id": "cell-8ce1c8adb2dc6ec3",
     "locked": true,
     "points": 1,
     "schema_version": 3,
     "solution": false,
     "task": false
    }
   },
   "outputs": [],
   "source": [
    "from hashlib import sha1\n",
    "assert str(type(sample_string)) == \"<class 'str'>\", \"type is not str\"\n",
    "assert str(len(sample_string)) == \"5\", \"length is not correct\"\n",
    "assert str(sample_string.lower()) == \"hello\", \"value is not correct\"\n",
    "assert str(sample_string) == \"Hello\", \"correct string but incorrect case of letters\"\n",
    "\n",
    "assert sha1(str(type(sample_string)).encode(\"utf-8\")+b\"687a12e0445a85d2\").hexdigest() == \"270a860037637a3711a65d3c5ab506926fd6fcaa\", \"type is not str\"\n",
    "assert sha1(str(len(sample_string)).encode(\"utf-8\")+b\"687a12e0445a85d2\").hexdigest() == \"f9dc76019b6d9cba63538871f9492f802ee6d620\", \"length is not correct\"\n",
    "assert sha1(str(sample_string.lower()).encode(\"utf-8\")+b\"687a12e0445a85d2\").hexdigest() == \"61408b3a686dfc265498cfe39a7b81444f4891cb\", \"value is not correct\"\n",
    "assert sha1(str(sample_string).encode(\"utf-8\")+b\"687a12e0445a85d2\").hexdigest() == \"2ed136f522b89ff814d7d83b411c58d0fa9f0516\", \"correct string but incorrect case of letters\"\n",
    "\n",
    "print('Success!')"
   ]
  },
  {
   "cell_type": "markdown",
   "id": "ca5fecbe",
   "metadata": {
    "deletable": false,
    "editable": false,
    "nbgrader": {
     "cell_type": "markdown",
     "checksum": "3a0f819980884a5352c3b7667b7ca9aa",
     "grade": false,
     "grade_id": "cell-9fe9dda60f1c265b",
     "locked": true,
     "schema_version": 3,
     "solution": false,
     "task": false
    }
   },
   "source": [
    "### int"
   ]
  },
  {
   "cell_type": "code",
   "execution_count": null,
   "id": "41fe5dd6",
   "metadata": {
    "deletable": false,
    "nbgrader": {
     "cell_type": "code",
     "checksum": "2752de4e7e480260f562fa098e4c4cb9",
     "grade": false,
     "grade_id": "cell-20ef3939e635dabb",
     "locked": false,
     "schema_version": 3,
     "solution": true,
     "task": false
    }
   },
   "outputs": [],
   "source": [
    "# sample_int = 35\n",
    "\n",
    "# YOUR CODE HERE\n",
    "raise NotImplementedError()"
   ]
  },
  {
   "cell_type": "code",
   "execution_count": null,
   "id": "4e0655b4",
   "metadata": {
    "deletable": false,
    "editable": false,
    "max_height": 100,
    "nbgrader": {
     "cell_type": "code",
     "checksum": "b74c1f7bb580d3f9d700b6bb0f7bf08f",
     "grade": true,
     "grade_id": "cell-138112d9b5ae4caa",
     "locked": true,
     "points": 0,
     "schema_version": 3,
     "solution": false,
     "task": false
    }
   },
   "outputs": [],
   "source": [
    "from hashlib import sha1\n",
    "assert str(type(sample_int)) == \"<class 'int'>\", \"type is not int\"\n",
    "assert str(sample_int) == \"35\", \"value is not correct\"\n",
    "\n",
    "assert sha1(str(type(sample_int)).encode(\"utf-8\")+b\"392526080b2ecf6f\").hexdigest() == \"f8d4114f158fd0ca0c48078c8dfe89c4858fe869\", \"type is not int\"\n",
    "assert sha1(str(sample_int).encode(\"utf-8\")+b\"392526080b2ecf6f\").hexdigest() == \"3a4ae7d1216432b7aa39747da23dc42542b173d7\", \"value is not correct\"\n",
    "\n",
    "print('Success!')"
   ]
  },
  {
   "cell_type": "markdown",
   "id": "b76851f9",
   "metadata": {
    "deletable": false,
    "editable": false,
    "nbgrader": {
     "cell_type": "markdown",
     "checksum": "9d46ab3a8476a720a8d51351c215f9e6",
     "grade": false,
     "grade_id": "cell-94e16460ee9c1c32",
     "locked": true,
     "schema_version": 3,
     "solution": false,
     "task": false
    }
   },
   "source": [
    "### float"
   ]
  },
  {
   "cell_type": "code",
   "execution_count": null,
   "id": "7950995f",
   "metadata": {
    "deletable": false,
    "nbgrader": {
     "cell_type": "code",
     "checksum": "6f240aafaab587945bf2dbfb1f52de44",
     "grade": false,
     "grade_id": "cell-0ad2fc0d71a06f59",
     "locked": false,
     "schema_version": 3,
     "solution": true,
     "task": false
    }
   },
   "outputs": [],
   "source": [
    "# sample_float = 35.98765345\n",
    "\n",
    "# YOUR CODE HERE\n",
    "raise NotImplementedError()"
   ]
  },
  {
   "cell_type": "code",
   "execution_count": null,
   "id": "a0ac36c9",
   "metadata": {
    "deletable": false,
    "editable": false,
    "max_height": 100,
    "nbgrader": {
     "cell_type": "code",
     "checksum": "1d5519906d84846a3c834b3031361535",
     "grade": true,
     "grade_id": "cell-126da5a3faa851f1",
     "locked": true,
     "points": 0,
     "schema_version": 3,
     "solution": false,
     "task": false
    }
   },
   "outputs": [],
   "source": [
    "from hashlib import sha1\n",
    "assert str(type(sample_float)) == \"<class 'float'>\", \"type is not float\"\n",
    "assert str(round(sample_float, 5)) == \"35.98765\", \"value is not correct (rounded to 5 decimal places)\"\n",
    "\n",
    "assert sha1(str(type(sample_float)).encode(\"utf-8\")+b\"3f7ac2d1af306a81\").hexdigest() == \"6728901ff72d3796432f46e0bdba61b4e6bfc918\", \"type is not float\"\n",
    "assert sha1(str(round(sample_float, 5)).encode(\"utf-8\")+b\"3f7ac2d1af306a81\").hexdigest() == \"4c7fbfc83e04f55c941323502ff1a36d02bf1e63\", \"value is not correct (rounded to 5 decimal places)\"\n",
    "\n",
    "print('Success!')"
   ]
  },
  {
   "cell_type": "markdown",
   "id": "0f6012d4",
   "metadata": {
    "deletable": false,
    "editable": false,
    "nbgrader": {
     "cell_type": "markdown",
     "checksum": "98a0b8fed0ec6ebbe4654eef61353208",
     "grade": false,
     "grade_id": "cell-aa3b390705d0b782",
     "locked": true,
     "schema_version": 3,
     "solution": false,
     "task": false
    }
   },
   "source": [
    "### list"
   ]
  },
  {
   "cell_type": "code",
   "execution_count": null,
   "id": "7c6eb327",
   "metadata": {
    "deletable": false,
    "nbgrader": {
     "cell_type": "code",
     "checksum": "bbd913500f527c06c1a317407dddb2ba",
     "grade": false,
     "grade_id": "cell-43678e65bae42fd4",
     "locked": false,
     "schema_version": 3,
     "solution": true,
     "task": false
    }
   },
   "outputs": [],
   "source": [
    "# sample_list = [1, 'b', \"a\", 4.5]\n",
    "\n",
    "# YOUR CODE HERE\n",
    "raise NotImplementedError()"
   ]
  },
  {
   "cell_type": "code",
   "execution_count": null,
   "id": "5371d8e3",
   "metadata": {
    "deletable": false,
    "editable": false,
    "max_height": 100,
    "nbgrader": {
     "cell_type": "code",
     "checksum": "e399455e2b6283e2939f105c55623503",
     "grade": true,
     "grade_id": "cell-c474a81d248cbe37",
     "locked": true,
     "points": 0,
     "schema_version": 3,
     "solution": false,
     "task": false
    }
   },
   "outputs": [],
   "source": [
    "from hashlib import sha1\n",
    "assert str(type(sample_list)) == \"<class 'list'>\", \"type is not list\"\n",
    "assert str(len(sample_list)) == \"4\", \"length is not correct\"\n",
    "assert str(sorted([str(element) for element in sample_list])) == \"['1', '4.5', 'a', 'b']\", \"values are not correct\"\n",
    "assert str(sample_list) == \"[1, 'b', 'a', 4.5]\", \"order of elements is not correct\"\n",
    "\n",
    "assert sha1(str(type(sample_list)).encode(\"utf-8\")+b\"9c61b96ffb69f3b5\").hexdigest() == \"805dd9b064b1c1c5d44d6770cf842845826bf47e\", \"type is not list\"\n",
    "assert sha1(str(len(sample_list)).encode(\"utf-8\")+b\"9c61b96ffb69f3b5\").hexdigest() == \"f217391d915f55bc13667017a450f1de8f36a31b\", \"length is not correct\"\n",
    "assert sha1(str(sorted([str(element) for element in sample_list])).encode(\"utf-8\")+b\"9c61b96ffb69f3b5\").hexdigest() == \"5633aff7c4e71311865fd8af5e90fc98ace5f6d1\", \"values are not correct\"\n",
    "assert sha1(str(sample_list).encode(\"utf-8\")+b\"9c61b96ffb69f3b5\").hexdigest() == \"db26eb952eebb53809f444f0c1d5c9dc2eadcb7a\", \"order of elements is not correct\"\n",
    "\n",
    "print('Success!')"
   ]
  },
  {
   "cell_type": "markdown",
   "id": "4987dfcf",
   "metadata": {
    "deletable": false,
    "editable": false,
    "nbgrader": {
     "cell_type": "markdown",
     "checksum": "9cf23aca934af5dc54b25340171cf310",
     "grade": false,
     "grade_id": "cell-3da84b66de43e529",
     "locked": true,
     "schema_version": 3,
     "solution": false,
     "task": false
    }
   },
   "source": [
    "### set"
   ]
  },
  {
   "cell_type": "code",
   "execution_count": null,
   "id": "80dd453e",
   "metadata": {
    "deletable": false,
    "nbgrader": {
     "cell_type": "code",
     "checksum": "48e25eb975b591bb9d4cb092474bdf05",
     "grade": false,
     "grade_id": "cell-fe5861008f297022",
     "locked": false,
     "schema_version": 3,
     "solution": true,
     "task": false
    }
   },
   "outputs": [],
   "source": [
    "# sample_set = {1, 2, 3, 4, 5}\n",
    "\n",
    "# YOUR CODE HERE\n",
    "raise NotImplementedError()"
   ]
  },
  {
   "cell_type": "code",
   "execution_count": null,
   "id": "7fd108f4",
   "metadata": {
    "deletable": false,
    "editable": false,
    "max_height": 100,
    "nbgrader": {
     "cell_type": "code",
     "checksum": "93b96b5d641abe484204000251e41fd6",
     "grade": true,
     "grade_id": "cell-5e1c667195b47187",
     "locked": true,
     "points": 0,
     "schema_version": 3,
     "solution": false,
     "task": false
    }
   },
   "outputs": [],
   "source": [
    "from hashlib import sha1\n",
    "assert str(type(sample_set)) == \"<class 'set'>\", \"type is not set\"\n",
    "assert str(len(sample_set)) == \"5\", \"length is not correct\"\n",
    "assert str(sample_set) == \"{1, 2, 3, 4, 5}\", \"value is not correct\"\n",
    "\n",
    "assert sha1(str(type(sample_set)).encode(\"utf-8\")+b\"0343c81c3573078f\").hexdigest() == \"48142b9751028a522c44b4c7fa76819d5c823b9e\", \"type is not set\"\n",
    "assert sha1(str(len(sample_set)).encode(\"utf-8\")+b\"0343c81c3573078f\").hexdigest() == \"ec1dbbdda921a785b0f86ee71bf3a582b6d3b9e3\", \"length is not correct\"\n",
    "assert sha1(str(sample_set).encode(\"utf-8\")+b\"0343c81c3573078f\").hexdigest() == \"a7dd246cd6d242937481d659b88fb4bab1536443\", \"value is not correct\"\n",
    "\n",
    "print('Success!')"
   ]
  },
  {
   "cell_type": "markdown",
   "id": "f2305cf0",
   "metadata": {
    "deletable": false,
    "editable": false,
    "nbgrader": {
     "cell_type": "markdown",
     "checksum": "c72995e6154c0d8c1feec1d734cf9459",
     "grade": false,
     "grade_id": "cell-b22271d2bfd217fb",
     "locked": true,
     "schema_version": 3,
     "solution": false,
     "task": false
    }
   },
   "source": [
    "### tuple"
   ]
  },
  {
   "cell_type": "code",
   "execution_count": null,
   "id": "fbe49d0f",
   "metadata": {
    "deletable": false,
    "nbgrader": {
     "cell_type": "code",
     "checksum": "e7269f2f4eef079bda8dda9733712b92",
     "grade": false,
     "grade_id": "cell-a971551f5f91de4b",
     "locked": false,
     "schema_version": 3,
     "solution": true,
     "task": false
    }
   },
   "outputs": [],
   "source": [
    "# sample_tuple = (23, 78)\n",
    "\n",
    "# YOUR CODE HERE\n",
    "raise NotImplementedError()"
   ]
  },
  {
   "cell_type": "code",
   "execution_count": null,
   "id": "e493450e",
   "metadata": {
    "deletable": false,
    "editable": false,
    "max_height": 100,
    "nbgrader": {
     "cell_type": "code",
     "checksum": "2effa70751e648030b774f897784d0db",
     "grade": true,
     "grade_id": "cell-48cfa5ac37cdd98b",
     "locked": true,
     "points": 0,
     "schema_version": 3,
     "solution": false,
     "task": false
    }
   },
   "outputs": [],
   "source": [
    "from hashlib import sha1\n",
    "assert str(type(sample_tuple)) == \"<class 'tuple'>\", \"type is not tuple\"\n",
    "assert str(len(sample_tuple)) == \"2\", \"length is not correct\"\n",
    "assert str(sorted([str(element) for element in sample_tuple])) == \"['23', '78']\", \"values are not correct\"\n",
    "assert str(sample_tuple) == \"(23, 78)\", \"order of elements is not correct\"\n",
    "\n",
    "assert sha1(str(type(sample_tuple)).encode(\"utf-8\")+b\"72b47749f1091e41\").hexdigest() == \"a49b304b06b7b1cf35de2a862d846a1a8859d96b\", \"type is not tuple\"\n",
    "assert sha1(str(len(sample_tuple)).encode(\"utf-8\")+b\"72b47749f1091e41\").hexdigest() == \"0fdd6ff57b1b1316e3bef8c6e564a33a5b9fa7fe\", \"length is not correct\"\n",
    "assert sha1(str(sorted([str(element) for element in sample_tuple])).encode(\"utf-8\")+b\"72b47749f1091e41\").hexdigest() == \"e18a7a620b4511fea489918dc572cdd9c9339cd7\", \"values are not correct\"\n",
    "assert sha1(str(sample_tuple).encode(\"utf-8\")+b\"72b47749f1091e41\").hexdigest() == \"65d6b4c9094ba4f57088c9ac827aba05c0869c0e\", \"order of elements is not correct\"\n",
    "\n",
    "print('Success!')"
   ]
  },
  {
   "cell_type": "markdown",
   "id": "ad7d3b3e",
   "metadata": {
    "deletable": false,
    "editable": false,
    "nbgrader": {
     "cell_type": "markdown",
     "checksum": "d856b981374aecbb3f0dfe22d9c1c40e",
     "grade": false,
     "grade_id": "cell-dcda5109f0218e5e",
     "locked": true,
     "schema_version": 3,
     "solution": false,
     "task": false
    }
   },
   "source": [
    "### dict"
   ]
  },
  {
   "cell_type": "code",
   "execution_count": null,
   "id": "8183cb03",
   "metadata": {
    "deletable": false,
    "nbgrader": {
     "cell_type": "code",
     "checksum": "72eb6759c6dc10d1f0e764b529135737",
     "grade": false,
     "grade_id": "cell-ddabbd9234db36c0",
     "locked": false,
     "schema_version": 3,
     "solution": true,
     "task": false
    }
   },
   "outputs": [],
   "source": [
    "# sample_dict = {'a': 1, 'b': 2, \"c\": 3}\n",
    "\n",
    "# YOUR CODE HERE\n",
    "raise NotImplementedError()"
   ]
  },
  {
   "cell_type": "code",
   "execution_count": null,
   "id": "7afb9da1",
   "metadata": {
    "deletable": false,
    "editable": false,
    "max_height": 100,
    "nbgrader": {
     "cell_type": "code",
     "checksum": "f41e5de4d8c7033a637a60664ed9c72f",
     "grade": true,
     "grade_id": "cell-b8b1ad86fbbe578f",
     "locked": true,
     "points": 0,
     "schema_version": 3,
     "solution": false,
     "task": false
    }
   },
   "outputs": [],
   "source": [
    "from hashlib import sha1\n",
    "assert str(type(sample_dict)) == \"<class 'dict'>\", \"type is not dict\"\n",
    "assert str(len(list(sample_dict.keys()))) == \"3\", \"number of keys is not correct\"\n",
    "assert str(sorted(list(sample_dict.keys()))) == \"['a', 'b', 'c']\", \"keys are not correct\"\n",
    "assert str(sorted(list(sample_dict.values()))) == \"[1, 2, 3]\", \"correct keys, but values are not correct\"\n",
    "assert str(sample_dict) == \"{'a': 1, 'b': 2, 'c': 3}\", \"correct keys and values, but incorrect correspondence\"\n",
    "\n",
    "assert sha1(str(type(sample_dict)).encode(\"utf-8\")+b\"cd4495e898d547f0\").hexdigest() == \"5cede4eae2335b275d8fc121b5b6b4fc94bfffc6\", \"type is not dict\"\n",
    "assert sha1(str(len(list(sample_dict.keys()))).encode(\"utf-8\")+b\"cd4495e898d547f0\").hexdigest() == \"9d7068890cb8ce30a8d65cd46c7e255c232febd2\", \"number of keys is not correct\"\n",
    "assert sha1(str(sorted(list(sample_dict.keys()))).encode(\"utf-8\")+b\"cd4495e898d547f0\").hexdigest() == \"9fba3acba928b9f5ec4c0fb81d2b16d7cc7d03d9\", \"keys are not correct\"\n",
    "assert sha1(str(sorted(list(sample_dict.values()))).encode(\"utf-8\")+b\"cd4495e898d547f0\").hexdigest() == \"b0acc66ea4c3b5d8ae4a0fcafb64a656e7e40e09\", \"correct keys, but values are not correct\"\n",
    "assert sha1(str(sample_dict).encode(\"utf-8\")+b\"cd4495e898d547f0\").hexdigest() == \"f66fd57c7de9563c39543e98bb4713e55657de39\", \"correct keys and values, but incorrect correspondence\"\n",
    "\n",
    "print('Success!')"
   ]
  },
  {
   "cell_type": "markdown",
   "id": "7c66eaec",
   "metadata": {
    "deletable": false,
    "editable": false,
    "nbgrader": {
     "cell_type": "markdown",
     "checksum": "f388f831d206c9e306e01dbd3ede115f",
     "grade": false,
     "grade_id": "cell-415773d39cf1a418",
     "locked": true,
     "schema_version": 3,
     "solution": false,
     "task": false
    }
   },
   "source": [
    "### bool"
   ]
  },
  {
   "cell_type": "code",
   "execution_count": null,
   "id": "1ec2caec",
   "metadata": {
    "deletable": false,
    "nbgrader": {
     "cell_type": "code",
     "checksum": "8fee9e979c5d5ae1dab3d7bd35e6f767",
     "grade": false,
     "grade_id": "cell-e807929d33f8deb6",
     "locked": false,
     "schema_version": 3,
     "solution": true,
     "task": false
    }
   },
   "outputs": [],
   "source": [
    "# sample_bool = True\n",
    "\n",
    "# YOUR CODE HERE\n",
    "raise NotImplementedError()"
   ]
  },
  {
   "cell_type": "code",
   "execution_count": null,
   "id": "bb91ba4e",
   "metadata": {
    "deletable": false,
    "editable": false,
    "max_height": 100,
    "nbgrader": {
     "cell_type": "code",
     "checksum": "7d2285e36aaab8a199ab8877862b0b27",
     "grade": true,
     "grade_id": "cell-cf2f289017808ac8",
     "locked": true,
     "points": 0,
     "schema_version": 3,
     "solution": false,
     "task": false
    }
   },
   "outputs": [],
   "source": [
    "from hashlib import sha1\n",
    "assert str(type(sample_bool)) == \"<class 'bool'>\", \"type is not bool\"\n",
    "assert str(sample_bool) == \"True\", \"boolean value is not correct\"\n",
    "\n",
    "assert sha1(str(type(sample_bool)).encode(\"utf-8\")+b\"317fae7b7b7dcf90\").hexdigest() == \"9a91d392410c1cb36a4d69728cf5b562b0df8610\", \"type is not bool\"\n",
    "assert sha1(str(sample_bool).encode(\"utf-8\")+b\"317fae7b7b7dcf90\").hexdigest() == \"f402f680654891eb9a19c875496299f427880132\", \"boolean value is not correct\"\n",
    "\n",
    "print('Success!')"
   ]
  },
  {
   "cell_type": "code",
   "execution_count": null,
   "id": "96b663ca",
   "metadata": {},
   "outputs": [],
   "source": []
  }
 ],
 "metadata": {
  "kernelspec": {
   "display_name": "Python 3 (ipykernel)",
   "language": "python",
   "name": "python3"
  },
  "language_info": {
   "codemirror_mode": {
    "name": "ipython",
    "version": 3
   },
   "file_extension": ".py",
   "mimetype": "text/x-python",
   "name": "python",
   "nbconvert_exporter": "python",
   "pygments_lexer": "ipython3",
   "version": "3.9.12"
  }
 },
 "nbformat": 4,
 "nbformat_minor": 5
}
