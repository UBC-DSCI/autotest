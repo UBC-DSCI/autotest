{
 "cells": [
  {
   "cell_type": "markdown",
   "metadata": {
    "deletable": false,
    "editable": false,
    "nbgrader": {
     "cell_type": "markdown",
     "checksum": "535c21960d4663d5edac398cb445d087",
     "grade": false,
     "grade_id": "jupyter",
     "locked": true,
     "schema_version": 3,
     "solution": false
    }
   },
   "source": [
    "For this problem set, we'll be using the Jupyter notebook:\n",
    "\n",
    "![](jupyter.png)"
   ]
  },
  {
   "cell_type": "markdown",
   "metadata": {},
   "source": [
    "---\n",
    "## Part A (2 points)\n",
    "\n",
    "Write a function that returns a list of numbers, such that $x_i=i^2$, for $1\\leq i \\leq n$. Make sure it handles the case where $n<1$ by raising a `ValueError`."
   ]
  },
  {
   "cell_type": "code",
   "execution_count": null,
   "metadata": {
    "deletable": false,
    "nbgrader": {
     "cell_type": "code",
     "checksum": "678e1c249c162be1bdb1e1622c1b5fa5",
     "grade": false,
     "grade_id": "squares",
     "locked": false,
     "schema_version": 3,
     "solution": true
    }
   },
   "outputs": [],
   "source": [
    "def squares(n):\n",
    "    \"\"\"Compute the squares of numbers from 1 to n, such that the \n",
    "    ith element of the returned list equals i^2.\n",
    "    \n",
    "    \"\"\"\n",
    "    ### BEGIN SOLUTION\n",
    "    if n < 1:\n",
    "        raise ValueError(\"n must be greater than or equal to 1\")\n",
    "    return [i ** 2 for i in range(1, n + 1)]\n",
    "    ### END SOLUTION"
   ]
  },
  {
   "cell_type": "markdown",
   "metadata": {},
   "source": [
    "Your function should print `[1, 4, 9, 16, 25, 36, 49, 64, 81, 100]` for $n=10$. Check that it does:"
   ]
  },
  {
   "cell_type": "code",
   "execution_count": null,
   "metadata": {},
   "outputs": [],
   "source": [
    "squares(10)"
   ]
  },
  {
   "cell_type": "code",
   "execution_count": null,
   "metadata": {
    "deletable": false,
    "editable": false,
    "nbgrader": {
     "cell_type": "code",
     "checksum": "f529c149f03f593e9f33a723562c9b44",
     "grade": true,
     "grade_id": "correct_squares",
     "locked": false,
     "points": 1,
     "schema_version": 3,
     "solution": false
    }
   },
   "outputs": [],
   "source": [
    "\"\"\"Check that squares returns the correct output for several inputs\"\"\"\n",
    "from hashlib import sha1\n",
    "assert str(type(squares(1))) == \"<class 'list'>\", \"type of squares(1) is not list\"\n",
    "assert str(len(squares(1))) == \"1\", \"length of squares(1) is not correct\"\n",
    "assert str(sorted([str(element) for element in squares(1)])) == \"['1']\", \"values of squares(1) are not correct\"\n",
    "assert str(squares(1)) == \"[1]\", \"order of elements of squares(1) is not correct\"\n",
    "\n",
    "assert str(type(squares(2))) == \"<class 'list'>\", \"type of squares(2) is not list\"\n",
    "assert str(len(squares(2))) == \"2\", \"length of squares(2) is not correct\"\n",
    "assert str(sorted([str(element) for element in squares(2)])) == \"['1', '4']\", \"values of squares(2) are not correct\"\n",
    "assert str(squares(2)) == \"[1, 4]\", \"order of elements of squares(2) is not correct\"\n",
    "\n",
    "assert str(type(squares(15))) == \"<class 'list'>\", \"type of squares(15) is not list\"\n",
    "assert str(len(squares(15))) == \"15\", \"length of squares(15) is not correct\"\n",
    "assert str(sorted([str(element) for element in squares(15)])) == \"['1', '100', '121', '144', '16', '169', '196', '225', '25', '36', '4', '49', '64', '81', '9']\", \"values of squares(15) are not correct\"\n",
    "assert str(squares(15)) == \"[1, 4, 9, 16, 25, 36, 49, 64, 81, 100, 121, 144, 169, 196, 225]\", \"order of elements of squares(15) is not correct\"\n",
    "\n",
    "assert str(type(squares(10))) == \"<class 'list'>\", \"type of squares(10) is not list\"\n",
    "assert str(len(squares(10))) == \"10\", \"length of squares(10) is not correct\"\n",
    "assert str(sorted([str(element) for element in squares(10)])) == \"['1', '100', '16', '25', '36', '4', '49', '64', '81', '9']\", \"values of squares(10) are not correct\"\n",
    "assert str(squares(10)) == \"[1, 4, 9, 16, 25, 36, 49, 64, 81, 100]\", \"order of elements of squares(10) is not correct\"\n",
    "\n",
    "assert str(type(squares(11))) == \"<class 'list'>\", \"type of squares(11) is not list\"\n",
    "assert str(len(squares(11))) == \"11\", \"length of squares(11) is not correct\"\n",
    "assert str(sorted([str(element) for element in squares(11)])) == \"['1', '100', '121', '16', '25', '36', '4', '49', '64', '81', '9']\", \"values of squares(11) are not correct\"\n",
    "assert str(squares(11)) == \"[1, 4, 9, 16, 25, 36, 49, 64, 81, 100, 121]\", \"order of elements of squares(11) is not correct\"\n",
    "\n",
    "assert str(type(3)) == \"<class 'int'>\", \"type of 3 is not int\"\n",
    "assert str(3) == \"3\", \"value of 3 is not correct\"\n",
    "\n",
    "assert str(type(squares(3))) == \"<class 'list'>\", \"type of squares(3) is not list\"\n",
    "assert str(len(squares(3))) == \"3\", \"length of squares(3) is not correct\"\n",
    "assert str(sorted([str(element) for element in squares(3)])) == \"['1', '4', '9']\", \"values of squares(3) are not correct\"\n",
    "assert str(squares(3)) == \"[1, 4, 9]\", \"order of elements of squares(3) is not correct\"\n",
    "\n",
    "assert sha1(str(type(squares(3))).encode(\"utf-8\")+b\"2cdff3e1a76cfbbf\").hexdigest() == \"1a922d5a4f918ebf17785f547a58a7a4474208c7\", \"type of squares(3) is not list\"\n",
    "assert sha1(str(len(squares(3))).encode(\"utf-8\")+b\"2cdff3e1a76cfbbf\").hexdigest() == \"619fca0c36241a703bb1612a0ac3801643b889fe\", \"length of squares(3) is not correct\"\n",
    "assert sha1(str(sorted([str(element) for element in squares(3)])).encode(\"utf-8\")+b\"2cdff3e1a76cfbbf\").hexdigest() == \"d5e6762d7a5494c9c7626293e5d381cb8572c6ae\", \"values of squares(3) are not correct\"\n",
    "assert sha1(str(squares(3)).encode(\"utf-8\")+b\"2cdff3e1a76cfbbf\").hexdigest() == \"077e0f4197b1a2372bb39250223a47a7ad8dbf80\", \"order of elements of squares(3) is not correct\"\n",
    "\n",
    "print('Success!')"
   ]
  },
  {
   "cell_type": "code",
   "execution_count": null,
   "metadata": {
    "deletable": false,
    "editable": false,
    "nbgrader": {
     "cell_type": "code",
     "checksum": "1c32ea00ca4a51dbaa4fa7474f7714a2",
     "grade": true,
     "grade_id": "squares_invalid_input",
     "locked": false,
     "points": 1,
     "schema_version": 3,
     "solution": false
    }
   },
   "outputs": [],
   "source": [
    "\"\"\"Check that squares raises an error for invalid inputs\"\"\"\n",
    "def test_func_throws(func, ErrorType):\n",
    "    try:\n",
    "        func()\n",
    "    except ErrorType:\n",
    "        return True\n",
    "    else:\n",
    "        print('Did not raise right type of error!')\n",
    "        return False\n",
    "    \n",
    "from hashlib import sha1\n",
    "assert str(type(test_func_throws(lambda : squares(0), ValueError))) == \"<class 'bool'>\", \"type of test_func_throws(lambda : squares(0), ValueError) is not bool\"\n",
    "assert str(test_func_throws(lambda : squares(0), ValueError)) == \"True\", \"boolean value of test_func_throws(lambda : squares(0), ValueError) is not correct\"\n",
    "\n",
    "assert str(type(test_func_throws(lambda : squares(-4), ValueError))) == \"<class 'bool'>\", \"type of test_func_throws(lambda : squares(-4), ValueError) is not bool\"\n",
    "assert str(test_func_throws(lambda : squares(-4), ValueError)) == \"True\", \"boolean value of test_func_throws(lambda : squares(-4), ValueError) is not correct\"\n",
    "\n",
    "\n",
    "print('Success!')"
   ]
  },
  {
   "cell_type": "markdown",
   "metadata": {},
   "source": [
    "---\n",
    "\n",
    "## Part B (1 point)\n",
    "\n",
    "Using your `squares` function, write a function that computes the sum of the squares of the numbers from 1 to $n$. Your function should call the `squares` function -- it should NOT reimplement its functionality."
   ]
  },
  {
   "cell_type": "code",
   "execution_count": null,
   "metadata": {
    "deletable": false,
    "nbgrader": {
     "cell_type": "code",
     "checksum": "e48a18cb5212408a6c3f5a94347225f6",
     "grade": false,
     "grade_id": "sum_of_squares",
     "locked": false,
     "schema_version": 3,
     "solution": true
    }
   },
   "outputs": [],
   "source": [
    "def sum_of_squares(n):\n",
    "    \"\"\"Compute the sum of the squares of numbers from 1 to n.\"\"\"\n",
    "    ### BEGIN SOLUTION\n",
    "    return sum(squares(n))\n",
    "    ### END SOLUTION"
   ]
  },
  {
   "cell_type": "markdown",
   "metadata": {},
   "source": [
    "The sum of squares from 1 to 10 should be 385. Verify that this is the answer you get:"
   ]
  },
  {
   "cell_type": "code",
   "execution_count": null,
   "metadata": {},
   "outputs": [],
   "source": [
    "sum_of_squares(10)"
   ]
  },
  {
   "cell_type": "code",
   "execution_count": null,
   "metadata": {
    "deletable": false,
    "editable": false,
    "nbgrader": {
     "cell_type": "code",
     "checksum": "132ff6151049b61aee23fb18e3effe04",
     "grade": true,
     "grade_id": "correct_sum_of_squares",
     "locked": false,
     "points": 0.5,
     "schema_version": 3,
     "solution": false
    }
   },
   "outputs": [],
   "source": [
    "\"\"\"Check that sum_of_squares returns the correct answer for various inputs.\"\"\"\n",
    "from hashlib import sha1\n",
    "assert str(type(sum_of_squares(1))) == \"<class 'int'>\", \"type of sum_of_squares(1) is not int\"\n",
    "assert str(sum_of_squares(1)) == \"1\", \"value of sum_of_squares(1) is not correct\"\n",
    "\n",
    "assert str(type(sum_of_squares(2))) == \"<class 'int'>\", \"type of sum_of_squares(2) is not int\"\n",
    "assert str(sum_of_squares(2)) == \"5\", \"value of sum_of_squares(2) is not correct\"\n",
    "\n",
    "assert str(type(sum_of_squares(10))) == \"<class 'int'>\", \"type of sum_of_squares(10) is not int\"\n",
    "assert str(sum_of_squares(10)) == \"385\", \"value of sum_of_squares(10) is not correct\"\n",
    "\n",
    "assert str(type(sum_of_squares(11))) == \"<class 'int'>\", \"type of sum_of_squares(11) is not int\"\n",
    "assert str(sum_of_squares(11)) == \"506\", \"value of sum_of_squares(11) is not correct\"\n",
    "\n",
    "\n",
    "print('Success!')"
   ]
  },
  {
   "cell_type": "code",
   "execution_count": null,
   "metadata": {
    "deletable": false,
    "editable": false,
    "nbgrader": {
     "cell_type": "code",
     "checksum": "1ba1a91584ec47d19116b7539b5bf45b",
     "grade": true,
     "grade_id": "sum_of_squares_uses_squares",
     "locked": false,
     "points": 0.5,
     "schema_version": 3,
     "solution": false
    }
   },
   "outputs": [],
   "source": [
    "\"\"\"Check that sum_of_squares relies on squares.\"\"\"\n",
    "\n",
    "orig_squares = squares\n",
    "del squares\n",
    "\n",
    "from hashlib import sha1\n",
    "assert str(type(test_func_throws(lambda : sum_of_squares(1), NameError))) == \"<class 'bool'>\", \"type of test_func_throws(lambda : sum_of_squares(1), NameError) is not bool\"\n",
    "assert str(test_func_throws(lambda : sum_of_squares(1), NameError)) == \"True\", \"boolean value of test_func_throws(lambda : sum_of_squares(1), NameError) is not correct\"\n",
    "\n",
    "\n",
    "squares = orig_squares\n",
    "\n",
    "print('Success!')"
   ]
  },
  {
   "cell_type": "markdown",
   "metadata": {},
   "source": [
    "---\n",
    "## Part C (1 point)\n",
    "\n",
    "Using LaTeX math notation, write out the equation that is implemented by your `sum_of_squares` function."
   ]
  },
  {
   "cell_type": "markdown",
   "metadata": {
    "deletable": false,
    "nbgrader": {
     "cell_type": "markdown",
     "checksum": "83a36e92209b469c44038783089c20cf",
     "grade": true,
     "grade_id": "sum_of_squares_equation",
     "locked": false,
     "points": 1,
     "schema_version": 3,
     "solution": true
    }
   },
   "source": [
    "$\\sum_{i=1}^n i^2$"
   ]
  },
  {
   "cell_type": "markdown",
   "metadata": {},
   "source": [
    "---\n",
    "## Part D (2 points)\n",
    "\n",
    "Find a usecase for your `sum_of_squares` function and implement that usecase in the cell below."
   ]
  },
  {
   "cell_type": "code",
   "execution_count": null,
   "metadata": {
    "deletable": false,
    "nbgrader": {
     "cell_type": "code",
     "checksum": "3b6358b2b9209fc0536884213c284f99",
     "grade": true,
     "grade_id": "sum_of_squares_application",
     "locked": false,
     "points": 2,
     "schema_version": 3,
     "solution": true
    }
   },
   "outputs": [],
   "source": [
    "def pyramidal_number(n):\n",
    "    \"\"\"Returns the n^th pyramidal number\"\"\"\n",
    "    return sum_of_squares(n)"
   ]
  },
  {
   "cell_type": "markdown",
   "metadata": {
    "deletable": false,
    "editable": false,
    "nbgrader": {
     "cell_type": "markdown",
     "checksum": "987adcce9e8e5119f9c00f2db459fd97",
     "grade": false,
     "grade_id": "cell-938593c4a215c6cc",
     "locked": true,
     "points": 4,
     "schema_version": 3,
     "solution": false,
     "task": true
    }
   },
   "source": [
    "---\n",
    "## Part E (4 points)\n",
    "\n",
    "State the formulae for an arithmetic and geometric sum and verify them numerically for an example of your choice."
   ]
  }
 ],
 "metadata": {
  "kernelspec": {
   "display_name": "Python 3",
   "language": "python",
   "name": "python3"
  },
  "language_info": {
   "codemirror_mode": {
    "name": "ipython",
    "version": 3
   },
   "file_extension": ".py",
   "mimetype": "text/x-python",
   "name": "python",
   "nbconvert_exporter": "python",
   "pygments_lexer": "ipython3",
   "version": "3.9.12"
  }
 },
 "nbformat": 4,
 "nbformat_minor": 1
}
