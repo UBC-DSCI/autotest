{
 "cells": [
  {
   "cell_type": "markdown",
   "id": "26caf5bf",
   "metadata": {
    "deletable": false,
    "editable": false,
    "nbgrader": {
     "cell_type": "markdown",
     "checksum": "812c70ea006cd8ff30be8881abc0e18d",
     "grade": false,
     "grade_id": "cell-388aada3e2c4987c",
     "locked": true,
     "schema_version": 3,
     "solution": false,
     "task": false
    }
   },
   "source": [
    "### str"
   ]
  },
  {
   "cell_type": "code",
   "execution_count": null,
   "id": "10810eb7",
   "metadata": {
    "deletable": false,
    "nbgrader": {
     "cell_type": "code",
     "checksum": "0dd074aa9258c2fe2d2245adc064e771",
     "grade": false,
     "grade_id": "cell-5db49a51603c3906",
     "locked": false,
     "schema_version": 3,
     "solution": true,
     "task": false
    }
   },
   "outputs": [],
   "source": [
    "# sample_string = 'Hello'\n",
    "\n",
    "### BEGIN SOLUTION\n",
    "sample_string = 'Hello'\n",
    "### END SOLUTION"
   ]
  },
  {
   "cell_type": "code",
   "execution_count": null,
   "id": "ad98e220",
   "metadata": {
    "deletable": false,
    "editable": false,
    "nbgrader": {
     "cell_type": "code",
     "checksum": "84495334c5e079f8846bb5cf9a851d01",
     "grade": true,
     "grade_id": "cell-8ce1c8adb2dc6ec3",
     "locked": true,
     "points": 1,
     "schema_version": 3,
     "solution": false,
     "task": false
    }
   },
   "outputs": [],
   "source": [
    "from hashlib import sha1\n",
    "assert str(type(sample_string)) == \"<class 'str'>\", \"type of sample_string is not str\"\n",
    "assert str(len(sample_string)) == \"5\", \"length of sample_string is not correct\"\n",
    "assert str(sample_string.lower()) == \"hello\", \"value of sample_string is not correct\"\n",
    "assert str(sample_string) == \"Hello\", \"correct string value of sample_string but incorrect case of letters\"\n",
    "\n",
    "assert sha1(str(type(sample_string)).encode(\"utf-8\")+b\"e492e257e18cd41a\").hexdigest() == \"ad7da43843e2b509d92231d9d42a07fbb1a5ff1d\", \"type of sample_string is not str\"\n",
    "assert sha1(str(len(sample_string)).encode(\"utf-8\")+b\"e492e257e18cd41a\").hexdigest() == \"a26b65bd32db60a24b4de335449b1bd3f493c63d\", \"length of sample_string is not correct\"\n",
    "assert sha1(str(sample_string.lower()).encode(\"utf-8\")+b\"e492e257e18cd41a\").hexdigest() == \"4897f8d87b6eb9b4cfb244551d0333623ad80c51\", \"value of sample_string is not correct\"\n",
    "assert sha1(str(sample_string).encode(\"utf-8\")+b\"e492e257e18cd41a\").hexdigest() == \"6b65c06b42413592cae5efc401548ee65c65904f\", \"correct string value of sample_string but incorrect case of letters\"\n",
    "\n",
    "print('Success!')"
   ]
  },
  {
   "cell_type": "markdown",
   "id": "ca5fecbe",
   "metadata": {
    "deletable": false,
    "editable": false,
    "nbgrader": {
     "cell_type": "markdown",
     "checksum": "3a0f819980884a5352c3b7667b7ca9aa",
     "grade": false,
     "grade_id": "cell-9fe9dda60f1c265b",
     "locked": true,
     "schema_version": 3,
     "solution": false,
     "task": false
    }
   },
   "source": [
    "### int"
   ]
  },
  {
   "cell_type": "code",
   "execution_count": null,
   "id": "41fe5dd6",
   "metadata": {
    "deletable": false,
    "nbgrader": {
     "cell_type": "code",
     "checksum": "d043d24a8af25a4af87cd3c16ed98296",
     "grade": false,
     "grade_id": "cell-20ef3939e635dabb",
     "locked": false,
     "schema_version": 3,
     "solution": true,
     "task": false
    }
   },
   "outputs": [],
   "source": [
    "# sample_int = 35\n",
    "\n",
    "### BEGIN SOLUTION\n",
    "sample_int = 35\n",
    "### END SOLUTION"
   ]
  },
  {
   "cell_type": "code",
   "execution_count": null,
   "id": "4e0655b4",
   "metadata": {
    "deletable": false,
    "editable": false,
    "nbgrader": {
     "cell_type": "code",
     "checksum": "377b0cb30356a393e9133c58fecd99ca",
     "grade": true,
     "grade_id": "cell-138112d9b5ae4caa",
     "locked": true,
     "points": 0,
     "schema_version": 3,
     "solution": false,
     "task": false
    }
   },
   "outputs": [],
   "source": [
    "from hashlib import sha1\n",
    "assert str(type(sample_int)) == \"<class 'int'>\", \"type of sample_int is not int\"\n",
    "assert str(sample_int) == \"35\", \"value of sample_int is not correct\"\n",
    "\n",
    "assert sha1(str(type(sample_int)).encode(\"utf-8\")+b\"634d798e400f4fc5\").hexdigest() == \"3748ff140e045f3bd69e62aae71ad0604be4ba83\", \"type of sample_int is not int\"\n",
    "assert sha1(str(sample_int).encode(\"utf-8\")+b\"634d798e400f4fc5\").hexdigest() == \"0497bd5bb6c0b05e52c3a9c5b25c6c156c8f82d6\", \"value of sample_int is not correct\"\n",
    "\n",
    "print('Success!')"
   ]
  },
  {
   "cell_type": "markdown",
   "id": "b76851f9",
   "metadata": {
    "deletable": false,
    "editable": false,
    "nbgrader": {
     "cell_type": "markdown",
     "checksum": "9d46ab3a8476a720a8d51351c215f9e6",
     "grade": false,
     "grade_id": "cell-94e16460ee9c1c32",
     "locked": true,
     "schema_version": 3,
     "solution": false,
     "task": false
    }
   },
   "source": [
    "### float"
   ]
  },
  {
   "cell_type": "code",
   "execution_count": null,
   "id": "7950995f",
   "metadata": {
    "deletable": false,
    "nbgrader": {
     "cell_type": "code",
     "checksum": "3b5bf7a7efea0994b0b0c6e39021432f",
     "grade": false,
     "grade_id": "cell-0ad2fc0d71a06f59",
     "locked": false,
     "schema_version": 3,
     "solution": true,
     "task": false
    }
   },
   "outputs": [],
   "source": [
    "# sample_float = 35.98765345\n",
    "\n",
    "### BEGIN SOLUTION\n",
    "sample_float = 35.98765345\n",
    "### END SOLUTION"
   ]
  },
  {
   "cell_type": "code",
   "execution_count": null,
   "id": "a0ac36c9",
   "metadata": {
    "deletable": false,
    "editable": false,
    "nbgrader": {
     "cell_type": "code",
     "checksum": "bb754a04848a50d98aa4ffcd88d9e153",
     "grade": true,
     "grade_id": "cell-126da5a3faa851f1",
     "locked": true,
     "points": 0,
     "schema_version": 3,
     "solution": false,
     "task": false
    }
   },
   "outputs": [],
   "source": [
    "from hashlib import sha1\n",
    "assert str(type(sample_float)) == \"<class 'float'>\", \"type of sample_float is not float\"\n",
    "assert str(round(sample_float, 8)) == \"35.98765345\", \"value of sample_float is not correct (rounded to 8 decimal places)\"\n",
    "\n",
    "assert sha1(str(type(sample_float)).encode(\"utf-8\")+b\"b59f6419a81c5968\").hexdigest() == \"9eb13f95967e0e06d97800dda088317ee3932147\", \"type of sample_float is not float\"\n",
    "assert sha1(str(round(sample_float, 8)).encode(\"utf-8\")+b\"b59f6419a81c5968\").hexdigest() == \"1599c494b0225bb187b51b757041c4096c2fcf21\", \"value of sample_float is not correct (rounded to 8 decimal places)\"\n",
    "\n",
    "print('Success!')"
   ]
  },
  {
   "cell_type": "markdown",
   "id": "0f6012d4",
   "metadata": {
    "deletable": false,
    "editable": false,
    "nbgrader": {
     "cell_type": "markdown",
     "checksum": "98a0b8fed0ec6ebbe4654eef61353208",
     "grade": false,
     "grade_id": "cell-aa3b390705d0b782",
     "locked": true,
     "schema_version": 3,
     "solution": false,
     "task": false
    }
   },
   "source": [
    "### list"
   ]
  },
  {
   "cell_type": "code",
   "execution_count": null,
   "id": "7c6eb327",
   "metadata": {
    "deletable": false,
    "nbgrader": {
     "cell_type": "code",
     "checksum": "78d908e48ab3ca5ad7cab776321c3598",
     "grade": false,
     "grade_id": "cell-43678e65bae42fd4",
     "locked": false,
     "schema_version": 3,
     "solution": true,
     "task": false
    }
   },
   "outputs": [],
   "source": [
    "# sample_list = [1, 'b', \"a\", 4.5]\n",
    "\n",
    "### BEGIN SOLUTION\n",
    "sample_list = [1, 'b', \"a\", 4.5]\n",
    "### END SOLUTION"
   ]
  },
  {
   "cell_type": "code",
   "execution_count": null,
   "id": "5371d8e3",
   "metadata": {
    "deletable": false,
    "editable": false,
    "nbgrader": {
     "cell_type": "code",
     "checksum": "ace943cde0d35da011597e7f3a3a8f82",
     "grade": true,
     "grade_id": "cell-c474a81d248cbe37",
     "locked": true,
     "points": 0,
     "schema_version": 3,
     "solution": false,
     "task": false
    }
   },
   "outputs": [],
   "source": [
    "from hashlib import sha1\n",
    "assert str(type(sample_list)) == \"<class 'list'>\", \"type of sample_list is not list\"\n",
    "assert str(len(sample_list)) == \"4\", \"length of sample_list is not correct\"\n",
    "assert str(sorted([str(element) for element in sample_list])) == \"['1', '4.5', 'a', 'b']\", \"values of sample_list are not correct\"\n",
    "assert str(sample_list) == \"[1, 'b', 'a', 4.5]\", \"order of elements of sample_list is not correct\"\n",
    "\n",
    "assert sha1(str(type(sample_list)).encode(\"utf-8\")+b\"61f599e0db16d5a8\").hexdigest() == \"6d05fc6d5068d10d78064cb16eb33875c1b4d0c1\", \"type of sample_list is not list\"\n",
    "assert sha1(str(len(sample_list)).encode(\"utf-8\")+b\"61f599e0db16d5a8\").hexdigest() == \"ed990778f7fbc23470989eebc133479bd57c67fd\", \"length of sample_list is not correct\"\n",
    "assert sha1(str(sorted([str(element) for element in sample_list])).encode(\"utf-8\")+b\"61f599e0db16d5a8\").hexdigest() == \"5a5af53b9eb170ba84d62db3eadbe72e4b0c1d92\", \"values of sample_list are not correct\"\n",
    "assert sha1(str(sample_list).encode(\"utf-8\")+b\"61f599e0db16d5a8\").hexdigest() == \"c95d36c254088dc91b7f6e64c0265523bb407f69\", \"order of elements of sample_list is not correct\"\n",
    "\n",
    "print('Success!')"
   ]
  },
  {
   "cell_type": "markdown",
   "id": "4987dfcf",
   "metadata": {
    "deletable": false,
    "editable": false,
    "nbgrader": {
     "cell_type": "markdown",
     "checksum": "9cf23aca934af5dc54b25340171cf310",
     "grade": false,
     "grade_id": "cell-3da84b66de43e529",
     "locked": true,
     "schema_version": 3,
     "solution": false,
     "task": false
    }
   },
   "source": [
    "### set"
   ]
  },
  {
   "cell_type": "code",
   "execution_count": null,
   "id": "80dd453e",
   "metadata": {
    "deletable": false,
    "nbgrader": {
     "cell_type": "code",
     "checksum": "8d1b1bbb8865bf4a0288cec1cb84f076",
     "grade": false,
     "grade_id": "cell-fe5861008f297022",
     "locked": false,
     "schema_version": 3,
     "solution": true,
     "task": false
    }
   },
   "outputs": [],
   "source": [
    "# sample_set = {1, 2, 3, 4, 5}\n",
    "\n",
    "### BEGIN SOLUTION\n",
    "sample_set = {1, 2, 3, 4, 5}\n",
    "### END SOLUTION"
   ]
  },
  {
   "cell_type": "code",
   "execution_count": null,
   "id": "7fd108f4",
   "metadata": {
    "deletable": false,
    "editable": false,
    "nbgrader": {
     "cell_type": "code",
     "checksum": "15923b1c4cc9ff6b6b0bc885e0fb539f",
     "grade": true,
     "grade_id": "cell-5e1c667195b47187",
     "locked": true,
     "points": 0,
     "schema_version": 3,
     "solution": false,
     "task": false
    }
   },
   "outputs": [],
   "source": [
    "from hashlib import sha1\n",
    "assert str(type(sample_set)) == \"<class 'set'>\", \"type of sample_set is not set\"\n",
    "assert str(len(sample_set)) == \"5\", \"length of sample_set is not correct\"\n",
    "assert str(sample_set) == \"{1, 2, 3, 4, 5}\", \"value of sample_set is not correct\"\n",
    "\n",
    "assert sha1(str(type(sample_set)).encode(\"utf-8\")+b\"10e1b0d0051a49bd\").hexdigest() == \"9e64588c6438c908f4b4454c75913f2917819e7d\", \"type of sample_set is not set\"\n",
    "assert sha1(str(len(sample_set)).encode(\"utf-8\")+b\"10e1b0d0051a49bd\").hexdigest() == \"9193928e65af6d6879770a0736275f628e5d03a4\", \"length of sample_set is not correct\"\n",
    "assert sha1(str(sample_set).encode(\"utf-8\")+b\"10e1b0d0051a49bd\").hexdigest() == \"f84f82f84752254dbca88022884de637e69b3fbe\", \"value of sample_set is not correct\"\n",
    "\n",
    "print('Success!')"
   ]
  },
  {
   "cell_type": "markdown",
   "id": "f2305cf0",
   "metadata": {
    "deletable": false,
    "editable": false,
    "nbgrader": {
     "cell_type": "markdown",
     "checksum": "c72995e6154c0d8c1feec1d734cf9459",
     "grade": false,
     "grade_id": "cell-b22271d2bfd217fb",
     "locked": true,
     "schema_version": 3,
     "solution": false,
     "task": false
    }
   },
   "source": [
    "### tuple"
   ]
  },
  {
   "cell_type": "code",
   "execution_count": null,
   "id": "fbe49d0f",
   "metadata": {
    "deletable": false,
    "nbgrader": {
     "cell_type": "code",
     "checksum": "f4c29c541f54edfc2a4765abac4e22d0",
     "grade": false,
     "grade_id": "cell-a971551f5f91de4b",
     "locked": false,
     "schema_version": 3,
     "solution": true,
     "task": false
    }
   },
   "outputs": [],
   "source": [
    "# sample_tuple = (23, 78)\n",
    "\n",
    "### BEGIN SOLUTION\n",
    "sample_tuple = (23, 78)\n",
    "### END SOLUTION"
   ]
  },
  {
   "cell_type": "code",
   "execution_count": null,
   "id": "e493450e",
   "metadata": {
    "deletable": false,
    "editable": false,
    "nbgrader": {
     "cell_type": "code",
     "checksum": "93e6b02d33f43c1ab70b42501f3c1046",
     "grade": true,
     "grade_id": "cell-48cfa5ac37cdd98b",
     "locked": true,
     "points": 0,
     "schema_version": 3,
     "solution": false,
     "task": false
    }
   },
   "outputs": [],
   "source": [
    "from hashlib import sha1\n",
    "assert str(type(sample_tuple)) == \"<class 'tuple'>\", \"type of sample_tuple is not tuple\"\n",
    "assert str(len(sample_tuple)) == \"2\", \"length of sample_tuple is not correct\"\n",
    "assert str(sorted([str(element) for element in sample_tuple])) == \"['23', '78']\", \"values of sample_tuple are not correct\"\n",
    "assert str(sample_tuple) == \"(23, 78)\", \"order of elements of sample_tuple is not correct\"\n",
    "\n",
    "assert sha1(str(type(sample_tuple)).encode(\"utf-8\")+b\"7c305a766b45fe54\").hexdigest() == \"968dfa73b37938a8d368d674c421e66615d1ff3c\", \"type of sample_tuple is not tuple\"\n",
    "assert sha1(str(len(sample_tuple)).encode(\"utf-8\")+b\"7c305a766b45fe54\").hexdigest() == \"13af45850dae43d012f2566714d19e01a743f9ce\", \"length of sample_tuple is not correct\"\n",
    "assert sha1(str(sorted([str(element) for element in sample_tuple])).encode(\"utf-8\")+b\"7c305a766b45fe54\").hexdigest() == \"78ef639cee661b27c9acfda3648ea42d30640808\", \"values of sample_tuple are not correct\"\n",
    "assert sha1(str(sample_tuple).encode(\"utf-8\")+b\"7c305a766b45fe54\").hexdigest() == \"ae0a66649c15f120c0ae29e5a3e910bf9d556afb\", \"order of elements of sample_tuple is not correct\"\n",
    "\n",
    "print('Success!')"
   ]
  },
  {
   "cell_type": "markdown",
   "id": "ad7d3b3e",
   "metadata": {
    "deletable": false,
    "editable": false,
    "nbgrader": {
     "cell_type": "markdown",
     "checksum": "d856b981374aecbb3f0dfe22d9c1c40e",
     "grade": false,
     "grade_id": "cell-dcda5109f0218e5e",
     "locked": true,
     "schema_version": 3,
     "solution": false,
     "task": false
    }
   },
   "source": [
    "### dict"
   ]
  },
  {
   "cell_type": "code",
   "execution_count": null,
   "id": "8183cb03",
   "metadata": {
    "deletable": false,
    "nbgrader": {
     "cell_type": "code",
     "checksum": "9b4f59e7ae07503ade5c8f0c4c902f34",
     "grade": false,
     "grade_id": "cell-ddabbd9234db36c0",
     "locked": false,
     "schema_version": 3,
     "solution": true,
     "task": false
    }
   },
   "outputs": [],
   "source": [
    "# sample_dict = {'a': 1, 'b': 2, \"c\": 3}\n",
    "\n",
    "### BEGIN SOLUTION\n",
    "sample_dict = {'a': 1, 'b': 2, \"c\": 3}\n",
    "### END SOLUTION"
   ]
  },
  {
   "cell_type": "code",
   "execution_count": null,
   "id": "7afb9da1",
   "metadata": {
    "deletable": false,
    "editable": false,
    "nbgrader": {
     "cell_type": "code",
     "checksum": "0be7c8b29d60624631f797cb00cfceed",
     "grade": true,
     "grade_id": "cell-b8b1ad86fbbe578f",
     "locked": true,
     "points": 0,
     "schema_version": 3,
     "solution": false,
     "task": false
    }
   },
   "outputs": [],
   "source": [
    "from hashlib import sha1\n",
    "assert str(type(sample_dict)) == \"<class 'dict'>\", \"type of sample_dict is not dict\"\n",
    "assert str(len(list(sample_dict.keys()))) == \"3\", \"number of keys of sample_dict is not correct\"\n",
    "assert str(sorted(list(sample_dict.keys()))) == \"['a', 'b', 'c']\", \"keys of sample_dict are not correct\"\n",
    "assert str(sorted(list(sample_dict.values()))) == \"[1, 2, 3]\", \"correct keys, but values of sample_dict are not correct\"\n",
    "assert str(sample_dict) == \"{'a': 1, 'b': 2, 'c': 3}\", \"correct keys and values, but incorrect correspondence in keys and values of sample_dict\"\n",
    "\n",
    "assert sha1(str(type(sample_dict)).encode(\"utf-8\")+b\"5dc26d9bbd922df6\").hexdigest() == \"8842b4a36fc4675df9e090b02a4a765999f66714\", \"type of sample_dict is not dict\"\n",
    "assert sha1(str(len(list(sample_dict.keys()))).encode(\"utf-8\")+b\"5dc26d9bbd922df6\").hexdigest() == \"71586873e3fc3b33499d1c3217b8acc385de2f8c\", \"number of keys of sample_dict is not correct\"\n",
    "assert sha1(str(sorted(list(sample_dict.keys()))).encode(\"utf-8\")+b\"5dc26d9bbd922df6\").hexdigest() == \"ee4c98b8ea87d25147afd46b041b8bd5e0761e50\", \"keys of sample_dict are not correct\"\n",
    "assert sha1(str(sorted(list(sample_dict.values()))).encode(\"utf-8\")+b\"5dc26d9bbd922df6\").hexdigest() == \"dcc2156e1c47ddeae9996515cd8250cfbb003e36\", \"correct keys, but values of sample_dict are not correct\"\n",
    "assert sha1(str(sample_dict).encode(\"utf-8\")+b\"5dc26d9bbd922df6\").hexdigest() == \"aa54f7b7ee244d9a92cd5608ccce0f4740f3985c\", \"correct keys and values, but incorrect correspondence in keys and values of sample_dict\"\n",
    "\n",
    "print('Success!')"
   ]
  },
  {
   "cell_type": "markdown",
   "id": "7c66eaec",
   "metadata": {
    "deletable": false,
    "editable": false,
    "nbgrader": {
     "cell_type": "markdown",
     "checksum": "f388f831d206c9e306e01dbd3ede115f",
     "grade": false,
     "grade_id": "cell-415773d39cf1a418",
     "locked": true,
     "schema_version": 3,
     "solution": false,
     "task": false
    }
   },
   "source": [
    "### bool"
   ]
  },
  {
   "cell_type": "code",
   "execution_count": null,
   "id": "1ec2caec",
   "metadata": {
    "deletable": false,
    "nbgrader": {
     "cell_type": "code",
     "checksum": "28a4bd0b8bbe1fc892cf879d19439b6c",
     "grade": false,
     "grade_id": "cell-e807929d33f8deb6",
     "locked": false,
     "schema_version": 3,
     "solution": true,
     "task": false
    }
   },
   "outputs": [],
   "source": [
    "# sample_bool = True\n",
    "\n",
    "### BEGIN SOLUTION\n",
    "sample_bool = True\n",
    "### END SOLUTION"
   ]
  },
  {
   "cell_type": "code",
   "execution_count": null,
   "id": "bb91ba4e",
   "metadata": {
    "deletable": false,
    "editable": false,
    "nbgrader": {
     "cell_type": "code",
     "checksum": "9bfc83e16e8ec8b7a27ea7186deb1ff2",
     "grade": true,
     "grade_id": "cell-cf2f289017808ac8",
     "locked": true,
     "points": 0,
     "schema_version": 3,
     "solution": false,
     "task": false
    }
   },
   "outputs": [],
   "source": [
    "from hashlib import sha1\n",
    "assert str(type(sample_bool)) == \"<class 'bool'>\", \"type of sample_bool is not bool\"\n",
    "assert str(sample_bool) == \"True\", \"boolean value of sample_bool is not correct\"\n",
    "\n",
    "assert sha1(str(type(sample_bool)).encode(\"utf-8\")+b\"b28f82ec52a54219\").hexdigest() == \"bdacef4b45b422ee595fe265875872fa9826e866\", \"type of sample_bool is not bool\"\n",
    "assert sha1(str(sample_bool).encode(\"utf-8\")+b\"b28f82ec52a54219\").hexdigest() == \"d188a548ca5e96888925cffd788a4df8f69507ea\", \"boolean value of sample_bool is not correct\"\n",
    "\n",
    "print('Success!')"
   ]
  },
  {
   "cell_type": "code",
   "execution_count": null,
   "id": "96b663ca",
   "metadata": {},
   "outputs": [],
   "source": []
  }
 ],
 "metadata": {
  "kernelspec": {
   "display_name": "Python 3 (ipykernel)",
   "language": "python",
   "name": "python3"
  },
  "language_info": {
   "codemirror_mode": {
    "name": "ipython",
    "version": 3
   },
   "file_extension": ".py",
   "mimetype": "text/x-python",
   "name": "python",
   "nbconvert_exporter": "python",
   "pygments_lexer": "ipython3",
   "version": "3.9.12"
  }
 },
 "nbformat": 4,
 "nbformat_minor": 5
}
