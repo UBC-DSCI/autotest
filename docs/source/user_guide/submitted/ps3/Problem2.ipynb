{
 "cells": [
  {
   "cell_type": "markdown",
   "id": "26caf5bf",
   "metadata": {
    "deletable": false,
    "editable": false,
    "nbgrader": {
     "cell_type": "markdown",
     "checksum": "812c70ea006cd8ff30be8881abc0e18d",
     "grade": false,
     "grade_id": "cell-388aada3e2c4987c",
     "locked": true,
     "schema_version": 3,
     "solution": false,
     "task": false
    }
   },
   "source": [
    "### str"
   ]
  },
  {
   "cell_type": "code",
   "execution_count": null,
   "id": "10810eb7",
   "metadata": {
    "deletable": false,
    "nbgrader": {
     "cell_type": "code",
     "checksum": "7fb67c3da55a245e3e740a5b859c557a",
     "grade": false,
     "grade_id": "cell-5db49a51603c3906",
     "locked": false,
     "schema_version": 3,
     "solution": true,
     "task": false
    }
   },
   "outputs": [],
   "source": [
    "# sample_string = 'Hello'\n",
    "\n",
    "# YOUR CODE HERE\n",
    "answers = [1, 'hi', 'bello', 'hello', 'Hello']\n",
    "sample_string = answers[4]"
   ]
  },
  {
   "cell_type": "code",
   "execution_count": null,
   "id": "ad98e220",
   "metadata": {
    "deletable": false,
    "editable": false,
    "max_height": 100,
    "nbgrader": {
     "cell_type": "code",
     "checksum": "430a2c8995fde628af595c13e46b8830",
     "grade": true,
     "grade_id": "cell-8ce1c8adb2dc6ec3",
     "locked": true,
     "points": 1,
     "schema_version": 3,
     "solution": false,
     "task": false
    }
   },
   "outputs": [],
   "source": [
    "from hashlib import sha1\n",
    "assert str(type(sample_string)) == \"<class 'str'>\", \"type is not str\"\n",
    "assert str(len(sample_string)) == \"5\", \"length is not correct\"\n",
    "assert str(sample_string.lower()) == \"hello\", \"value is not correct\"\n",
    "assert str(sample_string) == \"Hello\", \"correct string but incorrect case of letters\"\n",
    "\n",
    "assert sha1(str(type(sample_string)).encode(\"utf-8\")+b\"1996c775d48999dd\").hexdigest() == \"cde20e4d019e2db1a90178690a215263a4fe10f9\", \"type is not str\"\n",
    "assert sha1(str(len(sample_string)).encode(\"utf-8\")+b\"1996c775d48999dd\").hexdigest() == \"2356178c506d45dc7667c1081c68c1127d5ea59c\", \"length is not correct\"\n",
    "assert sha1(str(sample_string.lower()).encode(\"utf-8\")+b\"1996c775d48999dd\").hexdigest() == \"644344c88b1cadda335c62aedb604597dfbbcabe\", \"value is not correct\"\n",
    "assert sha1(str(sample_string).encode(\"utf-8\")+b\"1996c775d48999dd\").hexdigest() == \"08ce6beb13f255ca0a369e757eafc38e41910a0e\", \"correct string but incorrect case of letters\"\n",
    "\n",
    "print('Success!')"
   ]
  },
  {
   "cell_type": "markdown",
   "id": "ca5fecbe",
   "metadata": {
    "deletable": false,
    "editable": false,
    "nbgrader": {
     "cell_type": "markdown",
     "checksum": "3a0f819980884a5352c3b7667b7ca9aa",
     "grade": false,
     "grade_id": "cell-9fe9dda60f1c265b",
     "locked": true,
     "schema_version": 3,
     "solution": false,
     "task": false
    }
   },
   "source": [
    "### int"
   ]
  },
  {
   "cell_type": "code",
   "execution_count": null,
   "id": "41fe5dd6",
   "metadata": {
    "deletable": false,
    "nbgrader": {
     "cell_type": "code",
     "checksum": "2752de4e7e480260f562fa098e4c4cb9",
     "grade": false,
     "grade_id": "cell-20ef3939e635dabb",
     "locked": false,
     "schema_version": 3,
     "solution": true,
     "task": false
    }
   },
   "outputs": [],
   "source": [
    "# sample_int = 35\n",
    "\n",
    "# YOUR CODE HERE\n",
    "answers = ['hi', 2.4, 2, 35]\n",
    "sample_int = answers[3]"
   ]
  },
  {
   "cell_type": "code",
   "execution_count": null,
   "id": "4e0655b4",
   "metadata": {
    "deletable": false,
    "editable": false,
    "max_height": 100,
    "nbgrader": {
     "cell_type": "code",
     "checksum": "4900c1724e9d57665e73a63ff52776ae",
     "grade": true,
     "grade_id": "cell-138112d9b5ae4caa",
     "locked": true,
     "points": 0,
     "schema_version": 3,
     "solution": false,
     "task": false
    }
   },
   "outputs": [],
   "source": [
    "from hashlib import sha1\n",
    "assert str(type(sample_int)) == \"<class 'int'>\", \"type is not int\"\n",
    "assert str(sample_int) == \"35\", \"value is not correct\"\n",
    "\n",
    "assert sha1(str(type(sample_int)).encode(\"utf-8\")+b\"647116cd3145be4a\").hexdigest() == \"ccf5c2cc34f88080427d6fbc63f79200e8a08bbe\", \"type is not int\"\n",
    "assert sha1(str(sample_int).encode(\"utf-8\")+b\"647116cd3145be4a\").hexdigest() == \"bc6952c2db4cfb5b8df7610aafb933c1befc3b55\", \"value is not correct\"\n",
    "\n",
    "print('Success!')"
   ]
  },
  {
   "cell_type": "markdown",
   "id": "b76851f9",
   "metadata": {
    "deletable": false,
    "editable": false,
    "nbgrader": {
     "cell_type": "markdown",
     "checksum": "9d46ab3a8476a720a8d51351c215f9e6",
     "grade": false,
     "grade_id": "cell-94e16460ee9c1c32",
     "locked": true,
     "schema_version": 3,
     "solution": false,
     "task": false
    }
   },
   "source": [
    "### float"
   ]
  },
  {
   "cell_type": "code",
   "execution_count": 7,
   "id": "7950995f",
   "metadata": {
    "deletable": false,
    "nbgrader": {
     "cell_type": "code",
     "checksum": "6f240aafaab587945bf2dbfb1f52de44",
     "grade": false,
     "grade_id": "cell-0ad2fc0d71a06f59",
     "locked": false,
     "schema_version": 3,
     "solution": true,
     "task": false
    }
   },
   "outputs": [],
   "source": [
    "# sample_float = 35.98765345\n",
    "\n",
    "# YOUR CODE HERE\n",
    "answers = ['hi', 35, 35.98, 35.98765300]\n",
    "sample_float = answers[3]"
   ]
  },
  {
   "cell_type": "code",
   "execution_count": 8,
   "id": "a0ac36c9",
   "metadata": {
    "deletable": false,
    "editable": false,
    "max_height": 100,
    "nbgrader": {
     "cell_type": "code",
     "checksum": "742d3e41bdd8f5c5703b083b072744cf",
     "grade": true,
     "grade_id": "cell-126da5a3faa851f1",
     "locked": true,
     "points": 0,
     "schema_version": 3,
     "solution": false,
     "task": false
    }
   },
   "outputs": [
    {
     "name": "stdout",
     "output_type": "stream",
     "text": [
      "Success!\n"
     ]
    }
   ],
   "source": [
    "from hashlib import sha1\n",
    "assert str(type(sample_float)) == \"<class 'float'>\", \"type is not float\"\n",
    "assert str(round(sample_float, 5)) == \"35.98765\", \"value neither correct nor close\"\n",
    "\n",
    "assert sha1(str(type(sample_float)).encode(\"utf-8\")+b\"073d7ae4dd1d8397\").hexdigest() == \"651aa63102af931443aac11d18ac929c86556146\", \"type is not float\"\n",
    "assert sha1(str(round(sample_float, 5)).encode(\"utf-8\")+b\"073d7ae4dd1d8397\").hexdigest() == \"8bfd1b4ed2a7ef3cf7ad4f4e886541b05cd2d8da\", \"value neither correct nor close\"\n",
    "\n",
    "print('Success!')"
   ]
  },
  {
   "cell_type": "markdown",
   "id": "0f6012d4",
   "metadata": {
    "deletable": false,
    "editable": false,
    "nbgrader": {
     "cell_type": "markdown",
     "checksum": "98a0b8fed0ec6ebbe4654eef61353208",
     "grade": false,
     "grade_id": "cell-aa3b390705d0b782",
     "locked": true,
     "schema_version": 3,
     "solution": false,
     "task": false
    }
   },
   "source": [
    "### list"
   ]
  },
  {
   "cell_type": "code",
   "execution_count": 20,
   "id": "7c6eb327",
   "metadata": {
    "deletable": false,
    "nbgrader": {
     "cell_type": "code",
     "checksum": "bbd913500f527c06c1a317407dddb2ba",
     "grade": false,
     "grade_id": "cell-43678e65bae42fd4",
     "locked": false,
     "schema_version": 3,
     "solution": true,
     "task": false
    }
   },
   "outputs": [],
   "source": [
    "# sample_list = [1, 'b', \"a\", 4.5]\n",
    "\n",
    "# YOUR CODE HERE\n",
    "answers = [[1, 'B', \"a\", 4.5], [1, \"a\", 'b', 4.5], [1, 'b', \"a\", 4.5]]\n",
    "sample_list = answers[2]"
   ]
  },
  {
   "cell_type": "code",
   "execution_count": 21,
   "id": "5371d8e3",
   "metadata": {
    "deletable": false,
    "editable": false,
    "max_height": 100,
    "nbgrader": {
     "cell_type": "code",
     "checksum": "b2903d43814481e96f9c4d220d50a88d",
     "grade": true,
     "grade_id": "cell-c474a81d248cbe37",
     "locked": true,
     "points": 0,
     "schema_version": 3,
     "solution": false,
     "task": false
    }
   },
   "outputs": [
    {
     "name": "stdout",
     "output_type": "stream",
     "text": [
      "Success!\n"
     ]
    }
   ],
   "source": [
    "from hashlib import sha1\n",
    "assert str(type(sample_list)) == \"<class 'list'>\", \"type is not list\"\n",
    "assert str(len(sample_list)) == \"4\", \"length is not correct\"\n",
    "assert str(sorted([str(element) for element in sample_list])) == \"['1', '4.5', 'a', 'b']\", \"values are not correct\"\n",
    "assert str(sample_list) == \"[1, 'b', 'a', 4.5]\", \"order of elements are not correct\"\n",
    "\n",
    "assert sha1(str(type(sample_list)).encode(\"utf-8\")+b\"e8d852479eff7351\").hexdigest() == \"e55b4f21e3150a793780124d14222d626fb33b32\", \"type is not list\"\n",
    "assert sha1(str(len(sample_list)).encode(\"utf-8\")+b\"e8d852479eff7351\").hexdigest() == \"ba3b3b98eff96d1458c420929645591b8f7b3dd1\", \"length is not correct\"\n",
    "assert sha1(str(sorted([str(element) for element in sample_list])).encode(\"utf-8\")+b\"e8d852479eff7351\").hexdigest() == \"36ed30d18027613e0ae7885acedd3e852e8756f0\", \"values are not correct\"\n",
    "assert sha1(str(sample_list).encode(\"utf-8\")+b\"e8d852479eff7351\").hexdigest() == \"3ae6fd42834d82cf292fdaf3e37f71f0d75837da\", \"order of elements are not correct\"\n",
    "\n",
    "print('Success!')"
   ]
  },
  {
   "cell_type": "markdown",
   "id": "4987dfcf",
   "metadata": {
    "deletable": false,
    "editable": false,
    "nbgrader": {
     "cell_type": "markdown",
     "checksum": "9cf23aca934af5dc54b25340171cf310",
     "grade": false,
     "grade_id": "cell-3da84b66de43e529",
     "locked": true,
     "schema_version": 3,
     "solution": false,
     "task": false
    }
   },
   "source": [
    "### set"
   ]
  },
  {
   "cell_type": "code",
   "execution_count": 30,
   "id": "80dd453e",
   "metadata": {
    "deletable": false,
    "nbgrader": {
     "cell_type": "code",
     "checksum": "48e25eb975b591bb9d4cb092474bdf05",
     "grade": false,
     "grade_id": "cell-fe5861008f297022",
     "locked": false,
     "schema_version": 3,
     "solution": true,
     "task": false
    }
   },
   "outputs": [],
   "source": [
    "# sample_set = {1, 2, 3, 4, 5}\n",
    "\n",
    "# YOUR CODE HERE\n",
    "answers = [{1, 2, 3, 4, 5, 5}, {1, 2, 3, 5, 4}, {1, 'b', \"a\", 4.5}, {1, 2, 3, 5, 'a'}]\n",
    "sample_set = answers[0]"
   ]
  },
  {
   "cell_type": "code",
   "execution_count": 31,
   "id": "7fd108f4",
   "metadata": {
    "deletable": false,
    "editable": false,
    "max_height": 100,
    "nbgrader": {
     "cell_type": "code",
     "checksum": "6c4b181916ca3ebfc5f859b9d8c4198a",
     "grade": true,
     "grade_id": "cell-5e1c667195b47187",
     "locked": true,
     "points": 0,
     "schema_version": 3,
     "solution": false,
     "task": false
    }
   },
   "outputs": [
    {
     "name": "stdout",
     "output_type": "stream",
     "text": [
      "Success!\n"
     ]
    }
   ],
   "source": [
    "from hashlib import sha1\n",
    "assert str(type(sample_set)) == \"<class 'set'>\", \"type is not set\"\n",
    "assert str(len(sample_set)) == \"5\", \"length is not correct\"\n",
    "assert str(sample_set) == \"{1, 2, 3, 4, 5}\", \"value is not correct\"\n",
    "\n",
    "assert sha1(str(type(sample_set)).encode(\"utf-8\")+b\"55726ed71fc4ba04\").hexdigest() == \"687634aa3e21cd359b3e1aea3133844a026f480e\", \"type is not set\"\n",
    "assert sha1(str(len(sample_set)).encode(\"utf-8\")+b\"55726ed71fc4ba04\").hexdigest() == \"3f10873af8a64dd7e366a8c5a96eac85c69a9b02\", \"length is not correct\"\n",
    "assert sha1(str(sample_set).encode(\"utf-8\")+b\"55726ed71fc4ba04\").hexdigest() == \"25a2c594d3a9eaecdd84fff3fccb8d61b2714768\", \"value is not correct\"\n",
    "\n",
    "print('Success!')"
   ]
  },
  {
   "cell_type": "markdown",
   "id": "f2305cf0",
   "metadata": {
    "deletable": false,
    "editable": false,
    "nbgrader": {
     "cell_type": "markdown",
     "checksum": "c72995e6154c0d8c1feec1d734cf9459",
     "grade": false,
     "grade_id": "cell-b22271d2bfd217fb",
     "locked": true,
     "schema_version": 3,
     "solution": false,
     "task": false
    }
   },
   "source": [
    "### tuple"
   ]
  },
  {
   "cell_type": "code",
   "execution_count": 42,
   "id": "fbe49d0f",
   "metadata": {
    "deletable": false,
    "nbgrader": {
     "cell_type": "code",
     "checksum": "e7269f2f4eef079bda8dda9733712b92",
     "grade": false,
     "grade_id": "cell-a971551f5f91de4b",
     "locked": false,
     "schema_version": 3,
     "solution": true,
     "task": false
    }
   },
   "outputs": [],
   "source": [
    "# sample_tuple = (23, 78)\n",
    "\n",
    "# YOUR CODE HERE\n",
    "answers = ['a', (23, 78, 34), (78, 23), (23, 'a'), (23, 78)]\n",
    "sample_tuple = answers[4]"
   ]
  },
  {
   "cell_type": "code",
   "execution_count": 43,
   "id": "e493450e",
   "metadata": {
    "deletable": false,
    "editable": false,
    "max_height": 100,
    "nbgrader": {
     "cell_type": "code",
     "checksum": "fe212db4f13359b8428c610cd1afb264",
     "grade": true,
     "grade_id": "cell-48cfa5ac37cdd98b",
     "locked": true,
     "points": 0,
     "schema_version": 3,
     "solution": false,
     "task": false
    }
   },
   "outputs": [
    {
     "name": "stdout",
     "output_type": "stream",
     "text": [
      "Success!\n"
     ]
    }
   ],
   "source": [
    "from hashlib import sha1\n",
    "assert str(type(sample_tuple)) == \"<class 'tuple'>\", \"type is not tuple\"\n",
    "assert str(len(sample_tuple)) == \"2\", \"length is not correct\"\n",
    "assert str(sorted([str(element) for element in sample_tuple])) == \"['23', '78']\", \"values are not correct\"\n",
    "assert str(sample_tuple) == \"(23, 78)\", \"order of elements are not correct\"\n",
    "\n",
    "assert sha1(str(type(sample_tuple)).encode(\"utf-8\")+b\"41d40d614e5158e1\").hexdigest() == \"97afad47bc6a9b26977f3fc0bff4ca01b72bb9d5\", \"type is not tuple\"\n",
    "assert sha1(str(len(sample_tuple)).encode(\"utf-8\")+b\"41d40d614e5158e1\").hexdigest() == \"d416498af3315d7ded644e9a4ec7bba4a9617678\", \"length is not correct\"\n",
    "assert sha1(str(sorted([str(element) for element in sample_tuple])).encode(\"utf-8\")+b\"41d40d614e5158e1\").hexdigest() == \"943391189bf8c06acaa1f618cc4e5d4fbedd740c\", \"values are not correct\"\n",
    "assert sha1(str(sample_tuple).encode(\"utf-8\")+b\"41d40d614e5158e1\").hexdigest() == \"518cf96875c6d3de3a76cf11f68c155178acf3a7\", \"order of elements are not correct\"\n",
    "\n",
    "print('Success!')"
   ]
  },
  {
   "cell_type": "markdown",
   "id": "ad7d3b3e",
   "metadata": {
    "deletable": false,
    "editable": false,
    "nbgrader": {
     "cell_type": "markdown",
     "checksum": "d856b981374aecbb3f0dfe22d9c1c40e",
     "grade": false,
     "grade_id": "cell-dcda5109f0218e5e",
     "locked": true,
     "schema_version": 3,
     "solution": false,
     "task": false
    }
   },
   "source": [
    "### dict"
   ]
  },
  {
   "cell_type": "code",
   "execution_count": 52,
   "id": "8183cb03",
   "metadata": {
    "deletable": false,
    "nbgrader": {
     "cell_type": "code",
     "checksum": "72eb6759c6dc10d1f0e764b529135737",
     "grade": false,
     "grade_id": "cell-ddabbd9234db36c0",
     "locked": false,
     "schema_version": 3,
     "solution": true,
     "task": false
    }
   },
   "outputs": [],
   "source": [
    "# sample_dict = {'a': 1, 'b': 2, \"c\": 3}\n",
    "\n",
    "# YOUR CODE HERE\n",
    "answers = ['a', {}, {'a': 1, 'b': 2, \"c\": 3, 'd': 4}, {'a': 1, 'c': 2, \"b\": 3}]\n",
    "sample_dict = answers[3]"
   ]
  },
  {
   "cell_type": "code",
   "execution_count": 53,
   "id": "7afb9da1",
   "metadata": {
    "deletable": false,
    "editable": false,
    "max_height": 100,
    "nbgrader": {
     "cell_type": "code",
     "checksum": "9ba826d9c45d170ccc1913675e06b0e6",
     "grade": true,
     "grade_id": "cell-b8b1ad86fbbe578f",
     "locked": true,
     "points": 0,
     "schema_version": 3,
     "solution": false,
     "task": false
    }
   },
   "outputs": [
    {
     "ename": "AssertionError",
     "evalue": "not correct",
     "output_type": "error",
     "traceback": [
      "\u001b[1;31m---------------------------------------------------------------------------\u001b[0m",
      "\u001b[1;31mAssertionError\u001b[0m                            Traceback (most recent call last)",
      "\u001b[1;32mC:\\Users\\ALIREZ~1.IRA\\AppData\\Local\\Temp/ipykernel_15732/2191625916.py\u001b[0m in \u001b[0;36m<cell line: 6>\u001b[1;34m()\u001b[0m\n\u001b[0;32m      4\u001b[0m \u001b[1;32massert\u001b[0m \u001b[0mstr\u001b[0m\u001b[1;33m(\u001b[0m\u001b[0msorted\u001b[0m\u001b[1;33m(\u001b[0m\u001b[0mlist\u001b[0m\u001b[1;33m(\u001b[0m\u001b[0msample_dict\u001b[0m\u001b[1;33m.\u001b[0m\u001b[0mkeys\u001b[0m\u001b[1;33m(\u001b[0m\u001b[1;33m)\u001b[0m\u001b[1;33m)\u001b[0m\u001b[1;33m)\u001b[0m\u001b[1;33m)\u001b[0m \u001b[1;33m==\u001b[0m \u001b[1;34m\"['a', 'b', 'c']\"\u001b[0m\u001b[1;33m,\u001b[0m \u001b[1;34m\"keys are not correct\"\u001b[0m\u001b[1;33m\u001b[0m\u001b[1;33m\u001b[0m\u001b[0m\n\u001b[0;32m      5\u001b[0m \u001b[1;32massert\u001b[0m \u001b[0mstr\u001b[0m\u001b[1;33m(\u001b[0m\u001b[0msorted\u001b[0m\u001b[1;33m(\u001b[0m\u001b[0mlist\u001b[0m\u001b[1;33m(\u001b[0m\u001b[0msample_dict\u001b[0m\u001b[1;33m.\u001b[0m\u001b[0mvalues\u001b[0m\u001b[1;33m(\u001b[0m\u001b[1;33m)\u001b[0m\u001b[1;33m)\u001b[0m\u001b[1;33m)\u001b[0m\u001b[1;33m)\u001b[0m \u001b[1;33m==\u001b[0m \u001b[1;34m\"[1, 2, 3]\"\u001b[0m\u001b[1;33m,\u001b[0m \u001b[1;34m\"values are not correct\"\u001b[0m\u001b[1;33m\u001b[0m\u001b[1;33m\u001b[0m\u001b[0m\n\u001b[1;32m----> 6\u001b[1;33m \u001b[1;32massert\u001b[0m \u001b[0mstr\u001b[0m\u001b[1;33m(\u001b[0m\u001b[0msample_dict\u001b[0m\u001b[1;33m)\u001b[0m \u001b[1;33m==\u001b[0m \u001b[1;34m\"{'a': 1, 'b': 2, 'c': 3}\"\u001b[0m\u001b[1;33m,\u001b[0m \u001b[1;34m\"not correct\"\u001b[0m\u001b[1;33m\u001b[0m\u001b[1;33m\u001b[0m\u001b[0m\n\u001b[0m\u001b[0;32m      7\u001b[0m \u001b[1;33m\u001b[0m\u001b[0m\n\u001b[0;32m      8\u001b[0m \u001b[1;32massert\u001b[0m \u001b[0msha1\u001b[0m\u001b[1;33m(\u001b[0m\u001b[0mstr\u001b[0m\u001b[1;33m(\u001b[0m\u001b[0mtype\u001b[0m\u001b[1;33m(\u001b[0m\u001b[0msample_dict\u001b[0m\u001b[1;33m)\u001b[0m\u001b[1;33m)\u001b[0m\u001b[1;33m.\u001b[0m\u001b[0mencode\u001b[0m\u001b[1;33m(\u001b[0m\u001b[1;34m\"utf-8\"\u001b[0m\u001b[1;33m)\u001b[0m\u001b[1;33m+\u001b[0m\u001b[1;34mb\"c337926e481ea9b2\"\u001b[0m\u001b[1;33m)\u001b[0m\u001b[1;33m.\u001b[0m\u001b[0mhexdigest\u001b[0m\u001b[1;33m(\u001b[0m\u001b[1;33m)\u001b[0m \u001b[1;33m==\u001b[0m \u001b[1;34m\"46e681dea3b2a6346c354d1dcea78603bac3d823\"\u001b[0m\u001b[1;33m,\u001b[0m \u001b[1;34m\"type is not dict\"\u001b[0m\u001b[1;33m\u001b[0m\u001b[1;33m\u001b[0m\u001b[0m\n",
      "\u001b[1;31mAssertionError\u001b[0m: not correct"
     ]
    }
   ],
   "source": [
    "from hashlib import sha1\n",
    "assert str(type(sample_dict)) == \"<class 'dict'>\", \"type is not dict\"\n",
    "assert str(len(list(sample_dict.keys()))) == \"3\", \"number of keys is not correct\"\n",
    "assert str(sorted(list(sample_dict.keys()))) == \"['a', 'b', 'c']\", \"keys are not correct\"\n",
    "assert str(sorted(list(sample_dict.values()))) == \"[1, 2, 3]\", \"values are not correct\"\n",
    "assert str(sample_dict) == \"{'a': 1, 'b': 2, 'c': 3}\", \"not correct\"\n",
    "\n",
    "assert sha1(str(type(sample_dict)).encode(\"utf-8\")+b\"c337926e481ea9b2\").hexdigest() == \"46e681dea3b2a6346c354d1dcea78603bac3d823\", \"type is not dict\"\n",
    "assert sha1(str(len(list(sample_dict.keys()))).encode(\"utf-8\")+b\"c337926e481ea9b2\").hexdigest() == \"0a110352b96589eb902896beaa46dff36e07e267\", \"number of keys is not correct\"\n",
    "assert sha1(str(sorted(list(sample_dict.keys()))).encode(\"utf-8\")+b\"c337926e481ea9b2\").hexdigest() == \"d11e08f9f617348d36f9d7db561bc6a78507fbb2\", \"keys are not correct\"\n",
    "assert sha1(str(sorted(list(sample_dict.values()))).encode(\"utf-8\")+b\"c337926e481ea9b2\").hexdigest() == \"e1949fdfce30fbb185817893a12f8c1a1ddba3ff\", \"values are not correct\"\n",
    "assert sha1(str(sample_dict).encode(\"utf-8\")+b\"c337926e481ea9b2\").hexdigest() == \"984574a12dc64801aab3fb4dfb7ad082ceebbe56\", \"not correct\"\n",
    "\n",
    "print('Success!')"
   ]
  },
  {
   "cell_type": "markdown",
   "id": "7c66eaec",
   "metadata": {
    "deletable": false,
    "editable": false,
    "nbgrader": {
     "cell_type": "markdown",
     "checksum": "f388f831d206c9e306e01dbd3ede115f",
     "grade": false,
     "grade_id": "cell-415773d39cf1a418",
     "locked": true,
     "schema_version": 3,
     "solution": false,
     "task": false
    }
   },
   "source": [
    "### bool"
   ]
  },
  {
   "cell_type": "code",
   "execution_count": null,
   "id": "1ec2caec",
   "metadata": {
    "deletable": false,
    "nbgrader": {
     "cell_type": "code",
     "checksum": "8fee9e979c5d5ae1dab3d7bd35e6f767",
     "grade": false,
     "grade_id": "cell-e807929d33f8deb6",
     "locked": false,
     "schema_version": 3,
     "solution": true,
     "task": false
    }
   },
   "outputs": [],
   "source": [
    "# sample_bool = True\n",
    "\n",
    "# YOUR CODE HERE\n",
    "raise NotImplementedError()"
   ]
  },
  {
   "cell_type": "code",
   "execution_count": null,
   "id": "bb91ba4e",
   "metadata": {
    "deletable": false,
    "editable": false,
    "max_height": 100,
    "nbgrader": {
     "cell_type": "code",
     "checksum": "627eb07423fffea21bbce9b3d141a727",
     "grade": true,
     "grade_id": "cell-cf2f289017808ac8",
     "locked": true,
     "points": 0,
     "schema_version": 3,
     "solution": false,
     "task": false
    }
   },
   "outputs": [],
   "source": [
    "from hashlib import sha1\n",
    "assert str(type(sample_bool)) == \"<class 'bool'>\", \"type is not bool\"\n",
    "assert str(sample_bool) == \"True\", \"boolean value is not correct\"\n",
    "\n",
    "assert sha1(str(type(sample_bool)).encode(\"utf-8\")+b\"6fc511d5e4c1b9d4\").hexdigest() == \"aab11d51049f81fb8d062f4d829dd68ff5635828\", \"type is not bool\"\n",
    "assert sha1(str(sample_bool).encode(\"utf-8\")+b\"6fc511d5e4c1b9d4\").hexdigest() == \"e7ca76a78d6906acc6aeaeae79becbcd2aedee5c\", \"boolean value is not correct\"\n",
    "\n",
    "print('Success!')"
   ]
  },
  {
   "cell_type": "code",
   "execution_count": null,
   "id": "96b663ca",
   "metadata": {},
   "outputs": [],
   "source": []
  }
 ],
 "metadata": {
  "kernelspec": {
   "display_name": "Python 3 (ipykernel)",
   "language": "python",
   "name": "python3"
  },
  "language_info": {
   "codemirror_mode": {
    "name": "ipython",
    "version": 3
   },
   "file_extension": ".py",
   "mimetype": "text/x-python",
   "name": "python",
   "nbconvert_exporter": "python",
   "pygments_lexer": "ipython3",
   "version": "3.9.12"
  }
 },
 "nbformat": 4,
 "nbformat_minor": 5
}
