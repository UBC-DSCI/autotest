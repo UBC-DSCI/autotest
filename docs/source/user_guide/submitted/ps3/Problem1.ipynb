{
 "cells": [
  {
   "cell_type": "markdown",
   "id": "44930144",
   "metadata": {
    "deletable": false,
    "editable": false,
    "nbgrader": {
     "cell_type": "markdown",
     "checksum": "812c70ea006cd8ff30be8881abc0e18d",
     "grade": false,
     "grade_id": "cell-388aada3e2c4987c",
     "locked": true,
     "schema_version": 3,
     "solution": false,
     "task": false
    }
   },
   "source": [
    "### str"
   ]
  },
  {
   "cell_type": "code",
   "execution_count": 9,
   "id": "0e4497f4",
   "metadata": {
    "deletable": false,
    "nbgrader": {
     "cell_type": "code",
     "checksum": "7fb67c3da55a245e3e740a5b859c557a",
     "grade": false,
     "grade_id": "cell-5db49a51603c3906",
     "locked": false,
     "schema_version": 3,
     "solution": true,
     "task": false
    }
   },
   "outputs": [],
   "source": [
    "# sample_string = 'Hello'\n",
    "\n",
    "# YOUR CODE HERE\n",
    "answers = [1, 'hi', 'bello', 'hello', 'Hello']\n",
    "sample_string = answers[4]"
   ]
  },
  {
   "cell_type": "code",
   "execution_count": 10,
   "id": "7c693192",
   "metadata": {
    "deletable": false,
    "editable": false,
    "max_height": 100,
    "nbgrader": {
     "cell_type": "code",
     "checksum": "751d1362439e154d1ab734c78f0c659b",
     "grade": true,
     "grade_id": "cell-8ce1c8adb2dc6ec3",
     "locked": true,
     "points": 1,
     "schema_version": 3,
     "solution": false,
     "task": false
    }
   },
   "outputs": [
    {
     "name": "stdout",
     "output_type": "stream",
     "text": [
      "Success!\n"
     ]
    }
   ],
   "source": [
    "from hashlib import sha1\n",
    "assert str(type(sample_string)) == \"<class 'str'>\", \"type is not str\"\n",
    "assert str(len(sample_string)) == \"5\", \"length is not correct\"\n",
    "assert str(sample_string.lower()) == \"hello\", \"value is not correct\"\n",
    "assert str(sample_string) == \"Hello\", \"correct string but incorrect case of letters\"\n",
    "\n",
    "assert sha1(str(type(sample_string)).encode(\"utf-8\")+b\"e61eb63245cf74cf\").hexdigest() == \"f1de95f086601ae85529f2063cd90d81f4f25d4b\", \"type is not str\"\n",
    "assert sha1(str(len(sample_string)).encode(\"utf-8\")+b\"e61eb63245cf74cf\").hexdigest() == \"1b1470bc92c3e86b2bedf186fe525362e30572bf\", \"length is not correct\"\n",
    "assert sha1(str(sample_string.lower()).encode(\"utf-8\")+b\"e61eb63245cf74cf\").hexdigest() == \"be6cc87020607b0bd97d463894bcbda71a7e45ad\", \"value is not correct\"\n",
    "assert sha1(str(sample_string).encode(\"utf-8\")+b\"e61eb63245cf74cf\").hexdigest() == \"c1c7628e7baa42cca639f32c2f5af7e8070a0ba8\", \"correct string but incorrect case of letters\"\n",
    "\n",
    "print('Success!')"
   ]
  },
  {
   "cell_type": "markdown",
   "id": "48c7c01b",
   "metadata": {
    "deletable": false,
    "editable": false,
    "nbgrader": {
     "cell_type": "markdown",
     "checksum": "3a0f819980884a5352c3b7667b7ca9aa",
     "grade": false,
     "grade_id": "cell-9fe9dda60f1c265b",
     "locked": true,
     "schema_version": 3,
     "solution": false,
     "task": false
    }
   },
   "source": [
    "### int"
   ]
  },
  {
   "cell_type": "code",
   "execution_count": 19,
   "id": "9f45eee0",
   "metadata": {
    "deletable": false,
    "nbgrader": {
     "cell_type": "code",
     "checksum": "2752de4e7e480260f562fa098e4c4cb9",
     "grade": false,
     "grade_id": "cell-20ef3939e635dabb",
     "locked": false,
     "schema_version": 3,
     "solution": true,
     "task": false
    }
   },
   "outputs": [],
   "source": [
    "# sample_int = 35\n",
    "\n",
    "# YOUR CODE HERE\n",
    "answers = ['hi', 2.4, 2, 35]\n",
    "sample_int = answers[3]"
   ]
  },
  {
   "cell_type": "code",
   "execution_count": 20,
   "id": "60c838c7",
   "metadata": {
    "deletable": false,
    "editable": false,
    "max_height": 100,
    "nbgrader": {
     "cell_type": "code",
     "checksum": "240ccab34486aa33d29f8f9452c48507",
     "grade": true,
     "grade_id": "cell-138112d9b5ae4caa",
     "locked": true,
     "points": 0,
     "schema_version": 3,
     "solution": false,
     "task": false
    }
   },
   "outputs": [
    {
     "name": "stdout",
     "output_type": "stream",
     "text": [
      "Success!\n"
     ]
    }
   ],
   "source": [
    "from hashlib import sha1\n",
    "assert str(type(sample_int)) == \"<class 'int'>\", \"type is not int\"\n",
    "assert str(sample_int) == \"35\", \"value is not correct.\"\n",
    "\n",
    "assert sha1(str(type(sample_int)).encode(\"utf-8\")+b\"488dc9e2d44623db\").hexdigest() == \"da233930b01911d7ac586a8bd321fdcd3de2fbe7\", \"type is not int\"\n",
    "assert sha1(str(sample_int).encode(\"utf-8\")+b\"488dc9e2d44623db\").hexdigest() == \"f96ea79805a990df951c1507a949f550a6ad4743\", \"value is not correct.\"\n",
    "\n",
    "print('Success!')"
   ]
  },
  {
   "cell_type": "markdown",
   "id": "be0dc912",
   "metadata": {
    "deletable": false,
    "editable": false,
    "nbgrader": {
     "cell_type": "markdown",
     "checksum": "9d46ab3a8476a720a8d51351c215f9e6",
     "grade": false,
     "grade_id": "cell-94e16460ee9c1c32",
     "locked": true,
     "schema_version": 3,
     "solution": false,
     "task": false
    }
   },
   "source": [
    "### float"
   ]
  },
  {
   "cell_type": "code",
   "execution_count": 23,
   "id": "46de9add",
   "metadata": {
    "deletable": false,
    "nbgrader": {
     "cell_type": "code",
     "checksum": "6f240aafaab587945bf2dbfb1f52de44",
     "grade": false,
     "grade_id": "cell-0ad2fc0d71a06f59",
     "locked": false,
     "schema_version": 3,
     "solution": true,
     "task": false
    }
   },
   "outputs": [],
   "source": [
    "# sample_float = 35.98765345\n",
    "\n",
    "# YOUR CODE HERE\n",
    "answers = ['hi', 35, 35.98, 35.98765300]\n",
    "sample_float = answers[0]"
   ]
  },
  {
   "cell_type": "code",
   "execution_count": 24,
   "id": "cda8681d",
   "metadata": {
    "deletable": false,
    "editable": false,
    "max_height": 100,
    "nbgrader": {
     "cell_type": "code",
     "checksum": "8f51b44b776ab3f0b4345598c6f77b8a",
     "grade": true,
     "grade_id": "cell-126da5a3faa851f1",
     "locked": true,
     "points": 0,
     "schema_version": 3,
     "solution": false,
     "task": false
    }
   },
   "outputs": [
    {
     "ename": "AssertionError",
     "evalue": "type is not int",
     "output_type": "error",
     "traceback": [
      "\u001b[1;31m---------------------------------------------------------------------------\u001b[0m",
      "\u001b[1;31mAssertionError\u001b[0m                            Traceback (most recent call last)",
      "\u001b[1;32mC:\\Users\\ALIREZ~1.IRA\\AppData\\Local\\Temp/ipykernel_15564/2254524.py\u001b[0m in \u001b[0;36m<cell line: 2>\u001b[1;34m()\u001b[0m\n\u001b[0;32m      1\u001b[0m \u001b[1;32mfrom\u001b[0m \u001b[0mhashlib\u001b[0m \u001b[1;32mimport\u001b[0m \u001b[0msha1\u001b[0m\u001b[1;33m\u001b[0m\u001b[1;33m\u001b[0m\u001b[0m\n\u001b[1;32m----> 2\u001b[1;33m \u001b[1;32massert\u001b[0m \u001b[0mstr\u001b[0m\u001b[1;33m(\u001b[0m\u001b[0mtype\u001b[0m\u001b[1;33m(\u001b[0m\u001b[0msample_float\u001b[0m\u001b[1;33m)\u001b[0m\u001b[1;33m)\u001b[0m \u001b[1;33m==\u001b[0m \u001b[1;34m\"<class 'int'>\"\u001b[0m\u001b[1;33m,\u001b[0m \u001b[1;34m\"type is not int\"\u001b[0m\u001b[1;33m\u001b[0m\u001b[1;33m\u001b[0m\u001b[0m\n\u001b[0m\u001b[0;32m      3\u001b[0m \u001b[1;32massert\u001b[0m \u001b[0mstr\u001b[0m\u001b[1;33m(\u001b[0m\u001b[0msample_float\u001b[0m\u001b[1;33m)\u001b[0m \u001b[1;33m==\u001b[0m \u001b[1;34m\"35\"\u001b[0m\u001b[1;33m,\u001b[0m \u001b[1;34m\"value is not correct.\"\u001b[0m\u001b[1;33m\u001b[0m\u001b[1;33m\u001b[0m\u001b[0m\n\u001b[0;32m      4\u001b[0m \u001b[1;33m\u001b[0m\u001b[0m\n\u001b[0;32m      5\u001b[0m \u001b[1;32massert\u001b[0m \u001b[0msha1\u001b[0m\u001b[1;33m(\u001b[0m\u001b[0mstr\u001b[0m\u001b[1;33m(\u001b[0m\u001b[0mtype\u001b[0m\u001b[1;33m(\u001b[0m\u001b[0msample_float\u001b[0m\u001b[1;33m)\u001b[0m\u001b[1;33m)\u001b[0m\u001b[1;33m.\u001b[0m\u001b[0mencode\u001b[0m\u001b[1;33m(\u001b[0m\u001b[1;34m\"utf-8\"\u001b[0m\u001b[1;33m)\u001b[0m\u001b[1;33m+\u001b[0m\u001b[1;34mb\"91ea0919dab99ada\"\u001b[0m\u001b[1;33m)\u001b[0m\u001b[1;33m.\u001b[0m\u001b[0mhexdigest\u001b[0m\u001b[1;33m(\u001b[0m\u001b[1;33m)\u001b[0m \u001b[1;33m==\u001b[0m \u001b[1;34m\"7d25ae9bfc41d8c090fcb0a75d3d68940a00c25c\"\u001b[0m\u001b[1;33m,\u001b[0m \u001b[1;34m\"type is not int\"\u001b[0m\u001b[1;33m\u001b[0m\u001b[1;33m\u001b[0m\u001b[0m\n",
      "\u001b[1;31mAssertionError\u001b[0m: type is not int"
     ]
    }
   ],
   "source": [
    "from hashlib import sha1\n",
    "assert str(type(sample_float)) == \"<class 'int'>\", \"type is not int\"\n",
    "assert str(sample_float) == \"35\", \"value is not correct.\"\n",
    "\n",
    "assert sha1(str(type(sample_float)).encode(\"utf-8\")+b\"91ea0919dab99ada\").hexdigest() == \"7d25ae9bfc41d8c090fcb0a75d3d68940a00c25c\", \"type is not int\"\n",
    "assert sha1(str(sample_float).encode(\"utf-8\")+b\"91ea0919dab99ada\").hexdigest() == \"91ddb426ed278c2ede362d3bf52d14746c018e22\", \"value is not correct.\"\n",
    "\n",
    "print('Success!')"
   ]
  },
  {
   "cell_type": "markdown",
   "id": "d5d36f92",
   "metadata": {
    "deletable": false,
    "editable": false,
    "nbgrader": {
     "cell_type": "markdown",
     "checksum": "98a0b8fed0ec6ebbe4654eef61353208",
     "grade": false,
     "grade_id": "cell-aa3b390705d0b782",
     "locked": true,
     "schema_version": 3,
     "solution": false,
     "task": false
    }
   },
   "source": [
    "### list"
   ]
  },
  {
   "cell_type": "code",
   "execution_count": null,
   "id": "840cdc12",
   "metadata": {
    "deletable": false,
    "nbgrader": {
     "cell_type": "code",
     "checksum": "bbd913500f527c06c1a317407dddb2ba",
     "grade": false,
     "grade_id": "cell-43678e65bae42fd4",
     "locked": false,
     "schema_version": 3,
     "solution": true,
     "task": false
    }
   },
   "outputs": [],
   "source": [
    "# sample_list = [1, 'b', \"a\", 4.5]\n",
    "\n",
    "# YOUR CODE HERE\n",
    "raise NotImplementedError()"
   ]
  },
  {
   "cell_type": "code",
   "execution_count": null,
   "id": "d4a6b68c",
   "metadata": {
    "deletable": false,
    "editable": false,
    "max_height": 100,
    "nbgrader": {
     "cell_type": "code",
     "checksum": "f328b7dfbdac297c126c251a9d1c9e4b",
     "grade": true,
     "grade_id": "cell-c474a81d248cbe37",
     "locked": true,
     "points": 0,
     "schema_version": 3,
     "solution": false,
     "task": false
    }
   },
   "outputs": [],
   "source": [
    "from hashlib import sha1\n",
    "assert str(type(sample_list)) == \"<class 'list'>\", \"type is not list\"\n",
    "assert str(len(sample_list)) == \"4\", \"length is not correct\"\n",
    "assert str(sorted([str(element) for element in sample_list])) == \"['1', '4.5', 'a', 'b']\", \"values are not correct\"\n",
    "assert str(sample_list) == \"[1, 'b', 'a', 4.5]\", \"order of elements are not correct\"\n",
    "\n",
    "assert sha1(str(type(sample_list)).encode(\"utf-8\")+b\"f2050840a5856ff0\").hexdigest() == \"00df8daa4ca675830d621b74f0702c75ea61a193\", \"type is not list\"\n",
    "assert sha1(str(len(sample_list)).encode(\"utf-8\")+b\"f2050840a5856ff0\").hexdigest() == \"66562e6e98278c1e3bbf2676ba4b76b582734f8f\", \"length is not correct\"\n",
    "assert sha1(str(sorted([str(element) for element in sample_list])).encode(\"utf-8\")+b\"f2050840a5856ff0\").hexdigest() == \"d6012e4d0018da058d3e2f4097ef3e187dad8b8c\", \"values are not correct\"\n",
    "assert sha1(str(sample_list).encode(\"utf-8\")+b\"f2050840a5856ff0\").hexdigest() == \"691052a0ce3e5900dcf3ec927d2786ed7655b2fc\", \"order of elements are not correct\"\n",
    "\n",
    "print('Success!')"
   ]
  },
  {
   "cell_type": "markdown",
   "id": "3bdac752",
   "metadata": {
    "deletable": false,
    "editable": false,
    "nbgrader": {
     "cell_type": "markdown",
     "checksum": "9cf23aca934af5dc54b25340171cf310",
     "grade": false,
     "grade_id": "cell-3da84b66de43e529",
     "locked": true,
     "schema_version": 3,
     "solution": false,
     "task": false
    }
   },
   "source": [
    "### set"
   ]
  },
  {
   "cell_type": "code",
   "execution_count": null,
   "id": "38cb831b",
   "metadata": {
    "deletable": false,
    "nbgrader": {
     "cell_type": "code",
     "checksum": "48e25eb975b591bb9d4cb092474bdf05",
     "grade": false,
     "grade_id": "cell-fe5861008f297022",
     "locked": false,
     "schema_version": 3,
     "solution": true,
     "task": false
    }
   },
   "outputs": [],
   "source": [
    "# sample_set = {1, 2, 3, 4, 5}\n",
    "\n",
    "# YOUR CODE HERE\n",
    "raise NotImplementedError()"
   ]
  },
  {
   "cell_type": "code",
   "execution_count": null,
   "id": "bfde0eb4",
   "metadata": {
    "deletable": false,
    "editable": false,
    "max_height": 100,
    "nbgrader": {
     "cell_type": "code",
     "checksum": "02e4ff962938b37aec7efc01a3e3e302",
     "grade": true,
     "grade_id": "cell-5e1c667195b47187",
     "locked": true,
     "points": 0,
     "schema_version": 3,
     "solution": false,
     "task": false
    }
   },
   "outputs": [],
   "source": [
    "from hashlib import sha1\n",
    "assert str(type(sample_set)) == \"<class 'set'>\", \"type is not set\"\n",
    "assert str(len(sample_set)) == \"5\", \"length is not correct\"\n",
    "assert str(sample_set) == \"{1, 2, 3, 4, 5}\", \"value is not correct\"\n",
    "\n",
    "assert sha1(str(type(sample_set)).encode(\"utf-8\")+b\"3397cc2d891b345a\").hexdigest() == \"e186f70edcbda744f415970baffe634a6b9671dd\", \"type is not set\"\n",
    "assert sha1(str(len(sample_set)).encode(\"utf-8\")+b\"3397cc2d891b345a\").hexdigest() == \"38ed33fa27697456cdf65113df851e3f256e5748\", \"length is not correct\"\n",
    "assert sha1(str(sample_set).encode(\"utf-8\")+b\"3397cc2d891b345a\").hexdigest() == \"fee0a8690d3862595fa07899c1b03852cc3dbdb0\", \"value is not correct\"\n",
    "\n",
    "print('Success!')"
   ]
  },
  {
   "cell_type": "markdown",
   "id": "9f1adf88",
   "metadata": {
    "deletable": false,
    "editable": false,
    "nbgrader": {
     "cell_type": "markdown",
     "checksum": "c72995e6154c0d8c1feec1d734cf9459",
     "grade": false,
     "grade_id": "cell-b22271d2bfd217fb",
     "locked": true,
     "schema_version": 3,
     "solution": false,
     "task": false
    }
   },
   "source": [
    "### tuple"
   ]
  },
  {
   "cell_type": "code",
   "execution_count": null,
   "id": "3ab5b6d4",
   "metadata": {
    "deletable": false,
    "nbgrader": {
     "cell_type": "code",
     "checksum": "e7269f2f4eef079bda8dda9733712b92",
     "grade": false,
     "grade_id": "cell-a971551f5f91de4b",
     "locked": false,
     "schema_version": 3,
     "solution": true,
     "task": false
    }
   },
   "outputs": [],
   "source": [
    "# sample_tuple = (23, 78)\n",
    "\n",
    "# YOUR CODE HERE\n",
    "raise NotImplementedError()"
   ]
  },
  {
   "cell_type": "code",
   "execution_count": null,
   "id": "4f503db5",
   "metadata": {
    "deletable": false,
    "editable": false,
    "max_height": 100,
    "nbgrader": {
     "cell_type": "code",
     "checksum": "2e65a293ae85050ed9ad1e36cf6b45f0",
     "grade": true,
     "grade_id": "cell-48cfa5ac37cdd98b",
     "locked": true,
     "points": 0,
     "schema_version": 3,
     "solution": false,
     "task": false
    }
   },
   "outputs": [],
   "source": [
    "from hashlib import sha1\n",
    "assert str(type(sample_tuple)) == \"<class 'tuple'>\", \"type is not tuple\"\n",
    "assert str(len(sample_tuple)) == \"2\", \"length is not correct\"\n",
    "assert str(sorted([str(element) for element in sample_tuple])) == \"['23', '78']\", \"values are not correct\"\n",
    "assert str(sample_tuple) == \"(23, 78)\", \"order of elements are not correct\"\n",
    "\n",
    "assert sha1(str(type(sample_tuple)).encode(\"utf-8\")+b\"0a720c80aa4cb76f\").hexdigest() == \"27f23d5eadcbd912f84dcef9a25cdf3a7d277a7c\", \"type is not tuple\"\n",
    "assert sha1(str(len(sample_tuple)).encode(\"utf-8\")+b\"0a720c80aa4cb76f\").hexdigest() == \"74c47a81a4b7608f719c48c8509c3627edf6c622\", \"length is not correct\"\n",
    "assert sha1(str(sorted([str(element) for element in sample_tuple])).encode(\"utf-8\")+b\"0a720c80aa4cb76f\").hexdigest() == \"a91025e0ebc0fc4aac150b26478e8e844ae2fb71\", \"values are not correct\"\n",
    "assert sha1(str(sample_tuple).encode(\"utf-8\")+b\"0a720c80aa4cb76f\").hexdigest() == \"aa62b7d22c3eda8a2159b51d2bb93dde762c10c7\", \"order of elements are not correct\"\n",
    "\n",
    "print('Success!')"
   ]
  },
  {
   "cell_type": "markdown",
   "id": "8c6408d0",
   "metadata": {
    "deletable": false,
    "editable": false,
    "nbgrader": {
     "cell_type": "markdown",
     "checksum": "d856b981374aecbb3f0dfe22d9c1c40e",
     "grade": false,
     "grade_id": "cell-dcda5109f0218e5e",
     "locked": true,
     "schema_version": 3,
     "solution": false,
     "task": false
    }
   },
   "source": [
    "### dict"
   ]
  },
  {
   "cell_type": "code",
   "execution_count": null,
   "id": "3f26b8df",
   "metadata": {
    "deletable": false,
    "nbgrader": {
     "cell_type": "code",
     "checksum": "72eb6759c6dc10d1f0e764b529135737",
     "grade": false,
     "grade_id": "cell-ddabbd9234db36c0",
     "locked": false,
     "schema_version": 3,
     "solution": true,
     "task": false
    }
   },
   "outputs": [],
   "source": [
    "# sample_dict = {'a': 1, 'b': 2, \"c\": 3}\n",
    "\n",
    "# YOUR CODE HERE\n",
    "raise NotImplementedError()"
   ]
  },
  {
   "cell_type": "code",
   "execution_count": null,
   "id": "e1383eaa",
   "metadata": {
    "deletable": false,
    "editable": false,
    "max_height": 100,
    "nbgrader": {
     "cell_type": "code",
     "checksum": "9313d3bd6c5b392793804b095b59bd6e",
     "grade": true,
     "grade_id": "cell-b8b1ad86fbbe578f",
     "locked": true,
     "points": 0,
     "schema_version": 3,
     "solution": false,
     "task": false
    }
   },
   "outputs": [],
   "source": [
    "from hashlib import sha1\n",
    "assert str(type(sample_dict)) == \"<class 'dict'>\", \"type is not dict\"\n",
    "assert str(len(list(sample_dict.keys()))) == \"3\", \"number of keys is not correct\"\n",
    "assert str(sorted(list(sample_dict.keys()))) == \"['a', 'b', 'c']\", \"keys are not correct\"\n",
    "assert str(sorted(list(sample_dict.values()))) == \"[1, 2, 3]\", \"values are not correct\"\n",
    "assert str(sample_dict) == \"{'a': 1, 'b': 2, 'c': 3}\", \"not correct\"\n",
    "\n",
    "assert sha1(str(type(sample_dict)).encode(\"utf-8\")+b\"37c86b6aed9bbf3c\").hexdigest() == \"d8a1fb1de504b234463de5318291e4dc7d4be289\", \"type is not dict\"\n",
    "assert sha1(str(len(list(sample_dict.keys()))).encode(\"utf-8\")+b\"37c86b6aed9bbf3c\").hexdigest() == \"9d700bb36272a8d8f29067b2fff3e2a85a21b7f3\", \"number of keys is not correct\"\n",
    "assert sha1(str(sorted(list(sample_dict.keys()))).encode(\"utf-8\")+b\"37c86b6aed9bbf3c\").hexdigest() == \"6f71976d508e97ac4347cd76a967fcdc1ab59bd0\", \"keys are not correct\"\n",
    "assert sha1(str(sorted(list(sample_dict.values()))).encode(\"utf-8\")+b\"37c86b6aed9bbf3c\").hexdigest() == \"f9a0804430c9597e531da0d8cfa876fad194cba8\", \"values are not correct\"\n",
    "assert sha1(str(sample_dict).encode(\"utf-8\")+b\"37c86b6aed9bbf3c\").hexdigest() == \"b1cbd93dd454c8743fdac3f4c0440b932bcc5387\", \"not correct\"\n",
    "\n",
    "print('Success!')"
   ]
  },
  {
   "cell_type": "markdown",
   "id": "f098c27e",
   "metadata": {
    "deletable": false,
    "editable": false,
    "nbgrader": {
     "cell_type": "markdown",
     "checksum": "f388f831d206c9e306e01dbd3ede115f",
     "grade": false,
     "grade_id": "cell-415773d39cf1a418",
     "locked": true,
     "schema_version": 3,
     "solution": false,
     "task": false
    }
   },
   "source": [
    "### bool"
   ]
  },
  {
   "cell_type": "code",
   "execution_count": null,
   "id": "576f2a7b",
   "metadata": {
    "deletable": false,
    "nbgrader": {
     "cell_type": "code",
     "checksum": "8fee9e979c5d5ae1dab3d7bd35e6f767",
     "grade": false,
     "grade_id": "cell-e807929d33f8deb6",
     "locked": false,
     "schema_version": 3,
     "solution": true,
     "task": false
    }
   },
   "outputs": [],
   "source": [
    "# sample_bool = True\n",
    "\n",
    "# YOUR CODE HERE\n",
    "raise NotImplementedError()"
   ]
  },
  {
   "cell_type": "code",
   "execution_count": null,
   "id": "47b61595",
   "metadata": {
    "deletable": false,
    "editable": false,
    "max_height": 100,
    "nbgrader": {
     "cell_type": "code",
     "checksum": "db43007722b936c0070eeafa73c8b111",
     "grade": true,
     "grade_id": "cell-cf2f289017808ac8",
     "locked": true,
     "points": 0,
     "schema_version": 3,
     "solution": false,
     "task": false
    }
   },
   "outputs": [],
   "source": [
    "from hashlib import sha1\n",
    "assert str(type(sample_bool)) == \"<class 'bool'>\", \"type is not bool\"\n",
    "assert str(sample_bool) == \"True\", \"boolean value is not correct\"\n",
    "\n",
    "assert sha1(str(type(sample_bool)).encode(\"utf-8\")+b\"3a285f02396eda30\").hexdigest() == \"f1a13b5ca2b9ea6a2a29c8990e71fa09df1c03d5\", \"type is not bool\"\n",
    "assert sha1(str(sample_bool).encode(\"utf-8\")+b\"3a285f02396eda30\").hexdigest() == \"b005a9aa6b9707e6c0d58a9e8dc5814ee15613f7\", \"boolean value is not correct\"\n",
    "\n",
    "print('Success!')"
   ]
  },
  {
   "cell_type": "code",
   "execution_count": null,
   "id": "9769a905",
   "metadata": {},
   "outputs": [],
   "source": []
  }
 ],
 "metadata": {
  "kernelspec": {
   "display_name": "Python 3 (ipykernel)",
   "language": "python",
   "name": "python3"
  },
  "language_info": {
   "codemirror_mode": {
    "name": "ipython",
    "version": 3
   },
   "file_extension": ".py",
   "mimetype": "text/x-python",
   "name": "python",
   "nbconvert_exporter": "python",
   "pygments_lexer": "ipython3",
   "version": "3.9.12"
  }
 },
 "nbformat": 4,
 "nbformat_minor": 5
}
