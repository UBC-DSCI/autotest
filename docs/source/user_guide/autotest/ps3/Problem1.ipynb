{
 "cells": [
  {
   "cell_type": "markdown",
   "id": "26caf5bf",
   "metadata": {
    "deletable": false,
    "editable": false,
    "nbgrader": {
     "cell_type": "markdown",
     "checksum": "812c70ea006cd8ff30be8881abc0e18d",
     "grade": false,
     "grade_id": "cell-388aada3e2c4987c",
     "locked": true,
     "schema_version": 3,
     "solution": false,
     "task": false
    }
   },
   "source": [
    "### str"
   ]
  },
  {
   "cell_type": "code",
   "execution_count": null,
   "id": "10810eb7",
   "metadata": {
    "deletable": false,
    "nbgrader": {
     "cell_type": "code",
     "checksum": "0dd074aa9258c2fe2d2245adc064e771",
     "grade": false,
     "grade_id": "cell-5db49a51603c3906",
     "locked": false,
     "schema_version": 3,
     "solution": true,
     "task": false
    }
   },
   "outputs": [],
   "source": [
    "# sample_string = 'Hello'\n",
    "\n",
    "### BEGIN SOLUTION\n",
    "sample_string = 'Hello'\n",
    "### END SOLUTION"
   ]
  },
  {
   "cell_type": "code",
   "execution_count": null,
   "id": "ad98e220",
   "metadata": {
    "deletable": false,
    "editable": false,
    "nbgrader": {
     "cell_type": "code",
     "checksum": "88a912f4ad5e03d6f6657eb103d8bc67",
     "grade": true,
     "grade_id": "cell-8ce1c8adb2dc6ec3",
     "locked": true,
     "points": 1,
     "schema_version": 3,
     "solution": false,
     "task": false
    }
   },
   "outputs": [],
   "source": [
    "from hashlib import sha1\n",
    "assert str(type(sample_string)) == \"<class 'str'>\", \"type of sample_string is not str\"\n",
    "assert str(len(sample_string)) == \"5\", \"length of sample_string is not correct\"\n",
    "assert str(sample_string.lower()) == \"hello\", \"value of sample_string is not correct\"\n",
    "assert str(sample_string) == \"Hello\", \"correct string value of sample_string but incorrect case of letters\"\n",
    "\n",
    "assert sha1(str(type(sample_string)).encode(\"utf-8\")+b\"861eac6bd29a604c\").hexdigest() == \"52df73e14f67de23f89d4ce0074aaec8d7d90e68\", \"type of sample_string is not str\"\n",
    "assert sha1(str(len(sample_string)).encode(\"utf-8\")+b\"861eac6bd29a604c\").hexdigest() == \"c8c5340685d1ede63cbc2cdd6bd4a1ac5636d12b\", \"length of sample_string is not correct\"\n",
    "assert sha1(str(sample_string.lower()).encode(\"utf-8\")+b\"861eac6bd29a604c\").hexdigest() == \"e470700bf6d3248e4ab3489f377cac1f150d4cdf\", \"value of sample_string is not correct\"\n",
    "assert sha1(str(sample_string).encode(\"utf-8\")+b\"861eac6bd29a604c\").hexdigest() == \"c544e601bcfb7271954f9eab8d21e1bc692bf1bc\", \"correct string value of sample_string but incorrect case of letters\"\n",
    "\n",
    "print('Success!')"
   ]
  },
  {
   "cell_type": "markdown",
   "id": "ca5fecbe",
   "metadata": {
    "deletable": false,
    "editable": false,
    "nbgrader": {
     "cell_type": "markdown",
     "checksum": "3a0f819980884a5352c3b7667b7ca9aa",
     "grade": false,
     "grade_id": "cell-9fe9dda60f1c265b",
     "locked": true,
     "schema_version": 3,
     "solution": false,
     "task": false
    }
   },
   "source": [
    "### int"
   ]
  },
  {
   "cell_type": "code",
   "execution_count": null,
   "id": "41fe5dd6",
   "metadata": {
    "deletable": false,
    "nbgrader": {
     "cell_type": "code",
     "checksum": "d043d24a8af25a4af87cd3c16ed98296",
     "grade": false,
     "grade_id": "cell-20ef3939e635dabb",
     "locked": false,
     "schema_version": 3,
     "solution": true,
     "task": false
    }
   },
   "outputs": [],
   "source": [
    "# sample_int = 35\n",
    "\n",
    "### BEGIN SOLUTION\n",
    "sample_int = 35\n",
    "### END SOLUTION"
   ]
  },
  {
   "cell_type": "code",
   "execution_count": null,
   "id": "4e0655b4",
   "metadata": {
    "deletable": false,
    "editable": false,
    "nbgrader": {
     "cell_type": "code",
     "checksum": "f5c98a2c9b37fb8a52ce47018a189f8c",
     "grade": true,
     "grade_id": "cell-138112d9b5ae4caa",
     "locked": true,
     "points": 0,
     "schema_version": 3,
     "solution": false,
     "task": false
    }
   },
   "outputs": [],
   "source": [
    "from hashlib import sha1\n",
    "assert str(type(sample_int)) == \"<class 'int'>\", \"type of sample_int is not int\"\n",
    "assert str(sample_int) == \"35\", \"value of sample_int is not correct\"\n",
    "\n",
    "assert sha1(str(type(sample_int)).encode(\"utf-8\")+b\"255e03f247247a6e\").hexdigest() == \"f730d388de4a87a9421cd304cdfdda6a1857f2ab\", \"type of sample_int is not int\"\n",
    "assert sha1(str(sample_int).encode(\"utf-8\")+b\"255e03f247247a6e\").hexdigest() == \"6ef0f73b2e226a191bdab80be8ee0837acbd141e\", \"value of sample_int is not correct\"\n",
    "\n",
    "print('Success!')"
   ]
  },
  {
   "cell_type": "markdown",
   "id": "b76851f9",
   "metadata": {
    "deletable": false,
    "editable": false,
    "nbgrader": {
     "cell_type": "markdown",
     "checksum": "9d46ab3a8476a720a8d51351c215f9e6",
     "grade": false,
     "grade_id": "cell-94e16460ee9c1c32",
     "locked": true,
     "schema_version": 3,
     "solution": false,
     "task": false
    }
   },
   "source": [
    "### float"
   ]
  },
  {
   "cell_type": "code",
   "execution_count": null,
   "id": "7950995f",
   "metadata": {
    "deletable": false,
    "nbgrader": {
     "cell_type": "code",
     "checksum": "3b5bf7a7efea0994b0b0c6e39021432f",
     "grade": false,
     "grade_id": "cell-0ad2fc0d71a06f59",
     "locked": false,
     "schema_version": 3,
     "solution": true,
     "task": false
    }
   },
   "outputs": [],
   "source": [
    "# sample_float = 35.98765345\n",
    "\n",
    "### BEGIN SOLUTION\n",
    "sample_float = 35.98765345\n",
    "### END SOLUTION"
   ]
  },
  {
   "cell_type": "code",
   "execution_count": null,
   "id": "a0ac36c9",
   "metadata": {
    "deletable": false,
    "editable": false,
    "nbgrader": {
     "cell_type": "code",
     "checksum": "5655b31aae3e8c42f69909fc1d5784db",
     "grade": true,
     "grade_id": "cell-126da5a3faa851f1",
     "locked": true,
     "points": 0,
     "schema_version": 3,
     "solution": false,
     "task": false
    }
   },
   "outputs": [],
   "source": [
    "from hashlib import sha1\n",
    "assert str(type(sample_float)) == \"<class 'float'>\", \"type of sample_float is not float\"\n",
    "assert str(round(sample_float, 8)) == \"35.98765345\", \"value of sample_float is not correct (rounded to 8 decimal places)\"\n",
    "\n",
    "assert sha1(str(type(sample_float)).encode(\"utf-8\")+b\"6c1645c48088af85\").hexdigest() == \"1b445f37cb3e039e71a3d445ed2da568e3a28dbb\", \"type of sample_float is not float\"\n",
    "assert sha1(str(round(sample_float, 8)).encode(\"utf-8\")+b\"6c1645c48088af85\").hexdigest() == \"1ab65b6dbea5ef62e9936818e807d9b924579548\", \"value of sample_float is not correct (rounded to 8 decimal places)\"\n",
    "\n",
    "print('Success!')"
   ]
  },
  {
   "cell_type": "markdown",
   "id": "0f6012d4",
   "metadata": {
    "deletable": false,
    "editable": false,
    "nbgrader": {
     "cell_type": "markdown",
     "checksum": "98a0b8fed0ec6ebbe4654eef61353208",
     "grade": false,
     "grade_id": "cell-aa3b390705d0b782",
     "locked": true,
     "schema_version": 3,
     "solution": false,
     "task": false
    }
   },
   "source": [
    "### list"
   ]
  },
  {
   "cell_type": "code",
   "execution_count": null,
   "id": "7c6eb327",
   "metadata": {
    "deletable": false,
    "nbgrader": {
     "cell_type": "code",
     "checksum": "78d908e48ab3ca5ad7cab776321c3598",
     "grade": false,
     "grade_id": "cell-43678e65bae42fd4",
     "locked": false,
     "schema_version": 3,
     "solution": true,
     "task": false
    }
   },
   "outputs": [],
   "source": [
    "# sample_list = [1, 'b', \"a\", 4.5]\n",
    "\n",
    "### BEGIN SOLUTION\n",
    "sample_list = [1, 'b', \"a\", 4.5]\n",
    "### END SOLUTION"
   ]
  },
  {
   "cell_type": "code",
   "execution_count": null,
   "id": "5371d8e3",
   "metadata": {
    "deletable": false,
    "editable": false,
    "nbgrader": {
     "cell_type": "code",
     "checksum": "b7e800a6cb13ddd6a2a0b9d1609a2589",
     "grade": true,
     "grade_id": "cell-c474a81d248cbe37",
     "locked": true,
     "points": 0,
     "schema_version": 3,
     "solution": false,
     "task": false
    }
   },
   "outputs": [],
   "source": [
    "from hashlib import sha1\n",
    "assert str(type(sample_list)) == \"<class 'list'>\", \"type of sample_list is not list\"\n",
    "assert str(len(sample_list)) == \"4\", \"length of sample_list is not correct\"\n",
    "assert str(sorted([str(element) for element in sample_list])) == \"['1', '4.5', 'a', 'b']\", \"values of sample_list are not correct\"\n",
    "assert str(sample_list) == \"[1, 'b', 'a', 4.5]\", \"order of elements of sample_list is not correct\"\n",
    "\n",
    "assert sha1(str(type(sample_list)).encode(\"utf-8\")+b\"c9e79fb58deb6fec\").hexdigest() == \"d7c873ecfa2086f173b3827a7b88465b15d609fd\", \"type of sample_list is not list\"\n",
    "assert sha1(str(len(sample_list)).encode(\"utf-8\")+b\"c9e79fb58deb6fec\").hexdigest() == \"8d7e89aa5fd40606921f36da42da85cdade4b619\", \"length of sample_list is not correct\"\n",
    "assert sha1(str(sorted([str(element) for element in sample_list])).encode(\"utf-8\")+b\"c9e79fb58deb6fec\").hexdigest() == \"4b1c5fe5ad82a6c162cb671d144bedb4cfb2e55a\", \"values of sample_list are not correct\"\n",
    "assert sha1(str(sample_list).encode(\"utf-8\")+b\"c9e79fb58deb6fec\").hexdigest() == \"0617516f46aeaad1f4840c92c309a77711a23acf\", \"order of elements of sample_list is not correct\"\n",
    "\n",
    "print('Success!')"
   ]
  },
  {
   "cell_type": "markdown",
   "id": "4987dfcf",
   "metadata": {
    "deletable": false,
    "editable": false,
    "nbgrader": {
     "cell_type": "markdown",
     "checksum": "9cf23aca934af5dc54b25340171cf310",
     "grade": false,
     "grade_id": "cell-3da84b66de43e529",
     "locked": true,
     "schema_version": 3,
     "solution": false,
     "task": false
    }
   },
   "source": [
    "### set"
   ]
  },
  {
   "cell_type": "code",
   "execution_count": null,
   "id": "80dd453e",
   "metadata": {
    "deletable": false,
    "nbgrader": {
     "cell_type": "code",
     "checksum": "8d1b1bbb8865bf4a0288cec1cb84f076",
     "grade": false,
     "grade_id": "cell-fe5861008f297022",
     "locked": false,
     "schema_version": 3,
     "solution": true,
     "task": false
    }
   },
   "outputs": [],
   "source": [
    "# sample_set = {1, 2, 3, 4, 5}\n",
    "\n",
    "### BEGIN SOLUTION\n",
    "sample_set = {1, 2, 3, 4, 5}\n",
    "### END SOLUTION"
   ]
  },
  {
   "cell_type": "code",
   "execution_count": null,
   "id": "7fd108f4",
   "metadata": {
    "deletable": false,
    "editable": false,
    "nbgrader": {
     "cell_type": "code",
     "checksum": "1bf24cc040ae3fd5179fc73be3a1cded",
     "grade": true,
     "grade_id": "cell-5e1c667195b47187",
     "locked": true,
     "points": 0,
     "schema_version": 3,
     "solution": false,
     "task": false
    }
   },
   "outputs": [],
   "source": [
    "from hashlib import sha1\n",
    "assert str(type(sample_set)) == \"<class 'set'>\", \"type of sample_set is not set\"\n",
    "assert str(len(sample_set)) == \"5\", \"length of sample_set is not correct\"\n",
    "assert str(sample_set) == \"{1, 2, 3, 4, 5}\", \"value of sample_set is not correct\"\n",
    "\n",
    "assert sha1(str(type(sample_set)).encode(\"utf-8\")+b\"edde70af755b84b3\").hexdigest() == \"04dc83a79d71f7fa82273d428821a3f04d90210d\", \"type of sample_set is not set\"\n",
    "assert sha1(str(len(sample_set)).encode(\"utf-8\")+b\"edde70af755b84b3\").hexdigest() == \"6b506d52da55a71de1be0941205d501738618487\", \"length of sample_set is not correct\"\n",
    "assert sha1(str(sample_set).encode(\"utf-8\")+b\"edde70af755b84b3\").hexdigest() == \"91915a1ad1fe52804a25648b12e4964a232f5e1a\", \"value of sample_set is not correct\"\n",
    "\n",
    "print('Success!')"
   ]
  },
  {
   "cell_type": "markdown",
   "id": "f2305cf0",
   "metadata": {
    "deletable": false,
    "editable": false,
    "nbgrader": {
     "cell_type": "markdown",
     "checksum": "c72995e6154c0d8c1feec1d734cf9459",
     "grade": false,
     "grade_id": "cell-b22271d2bfd217fb",
     "locked": true,
     "schema_version": 3,
     "solution": false,
     "task": false
    }
   },
   "source": [
    "### tuple"
   ]
  },
  {
   "cell_type": "code",
   "execution_count": null,
   "id": "fbe49d0f",
   "metadata": {
    "deletable": false,
    "nbgrader": {
     "cell_type": "code",
     "checksum": "f4c29c541f54edfc2a4765abac4e22d0",
     "grade": false,
     "grade_id": "cell-a971551f5f91de4b",
     "locked": false,
     "schema_version": 3,
     "solution": true,
     "task": false
    }
   },
   "outputs": [],
   "source": [
    "# sample_tuple = (23, 78)\n",
    "\n",
    "### BEGIN SOLUTION\n",
    "sample_tuple = (23, 78)\n",
    "### END SOLUTION"
   ]
  },
  {
   "cell_type": "code",
   "execution_count": null,
   "id": "e493450e",
   "metadata": {
    "deletable": false,
    "editable": false,
    "nbgrader": {
     "cell_type": "code",
     "checksum": "5d0f26777236aa24bd9335aacb5bacb4",
     "grade": true,
     "grade_id": "cell-48cfa5ac37cdd98b",
     "locked": true,
     "points": 0,
     "schema_version": 3,
     "solution": false,
     "task": false
    }
   },
   "outputs": [],
   "source": [
    "from hashlib import sha1\n",
    "assert str(type(sample_tuple)) == \"<class 'tuple'>\", \"type of sample_tuple is not tuple\"\n",
    "assert str(len(sample_tuple)) == \"2\", \"length of sample_tuple is not correct\"\n",
    "assert str(sorted([str(element) for element in sample_tuple])) == \"['23', '78']\", \"values of sample_tuple are not correct\"\n",
    "assert str(sample_tuple) == \"(23, 78)\", \"order of elements of sample_tuple is not correct\"\n",
    "\n",
    "assert sha1(str(type(sample_tuple)).encode(\"utf-8\")+b\"5aa0dade2c0537a4\").hexdigest() == \"a2824e1d217368af581a99bf527e9a0f7f8862ad\", \"type of sample_tuple is not tuple\"\n",
    "assert sha1(str(len(sample_tuple)).encode(\"utf-8\")+b\"5aa0dade2c0537a4\").hexdigest() == \"70b1ad2b4da3848d0bc2dd23f0c276958739b144\", \"length of sample_tuple is not correct\"\n",
    "assert sha1(str(sorted([str(element) for element in sample_tuple])).encode(\"utf-8\")+b\"5aa0dade2c0537a4\").hexdigest() == \"5c2c9cf324c9f6390e4438ead8d747e7cdfd57ca\", \"values of sample_tuple are not correct\"\n",
    "assert sha1(str(sample_tuple).encode(\"utf-8\")+b\"5aa0dade2c0537a4\").hexdigest() == \"ab75f8b582b497d0647a5079107dc667bf56ebe9\", \"order of elements of sample_tuple is not correct\"\n",
    "\n",
    "print('Success!')"
   ]
  },
  {
   "cell_type": "markdown",
   "id": "ad7d3b3e",
   "metadata": {
    "deletable": false,
    "editable": false,
    "nbgrader": {
     "cell_type": "markdown",
     "checksum": "d856b981374aecbb3f0dfe22d9c1c40e",
     "grade": false,
     "grade_id": "cell-dcda5109f0218e5e",
     "locked": true,
     "schema_version": 3,
     "solution": false,
     "task": false
    }
   },
   "source": [
    "### dict"
   ]
  },
  {
   "cell_type": "code",
   "execution_count": null,
   "id": "8183cb03",
   "metadata": {
    "deletable": false,
    "nbgrader": {
     "cell_type": "code",
     "checksum": "9b4f59e7ae07503ade5c8f0c4c902f34",
     "grade": false,
     "grade_id": "cell-ddabbd9234db36c0",
     "locked": false,
     "schema_version": 3,
     "solution": true,
     "task": false
    }
   },
   "outputs": [],
   "source": [
    "# sample_dict = {'a': 1, 'b': 2, \"c\": 3}\n",
    "\n",
    "### BEGIN SOLUTION\n",
    "sample_dict = {'a': 1, 'b': 2, \"c\": 3}\n",
    "### END SOLUTION"
   ]
  },
  {
   "cell_type": "code",
   "execution_count": null,
   "id": "7afb9da1",
   "metadata": {
    "deletable": false,
    "editable": false,
    "nbgrader": {
     "cell_type": "code",
     "checksum": "da6a8b06243574f782c2d151f223eed9",
     "grade": true,
     "grade_id": "cell-b8b1ad86fbbe578f",
     "locked": true,
     "points": 0,
     "schema_version": 3,
     "solution": false,
     "task": false
    }
   },
   "outputs": [],
   "source": [
    "from hashlib import sha1\n",
    "assert str(type(sample_dict)) == \"<class 'dict'>\", \"type of sample_dict is not dict\"\n",
    "assert str(len(list(sample_dict.keys()))) == \"3\", \"number of keys of sample_dict is not correct\"\n",
    "assert str(sorted(list(sample_dict.keys()))) == \"['a', 'b', 'c']\", \"keys of sample_dict are not correct\"\n",
    "assert str(sorted(list(sample_dict.values()))) == \"[1, 2, 3]\", \"correct keys, but values of sample_dict are not correct\"\n",
    "assert str(sample_dict) == \"{'a': 1, 'b': 2, 'c': 3}\", \"correct keys and values, but incorrect correspondence in keys and values of sample_dict\"\n",
    "\n",
    "assert sha1(str(type(sample_dict)).encode(\"utf-8\")+b\"f8c4918c597e5958\").hexdigest() == \"4641d2c586abf6f03531f474a264def1973c453a\", \"type of sample_dict is not dict\"\n",
    "assert sha1(str(len(list(sample_dict.keys()))).encode(\"utf-8\")+b\"f8c4918c597e5958\").hexdigest() == \"3b12f1be84319d234bc2cc3638e473390811070a\", \"number of keys of sample_dict is not correct\"\n",
    "assert sha1(str(sorted(list(sample_dict.keys()))).encode(\"utf-8\")+b\"f8c4918c597e5958\").hexdigest() == \"7b7f2228bb060840f171f34e200dfe70f9d62750\", \"keys of sample_dict are not correct\"\n",
    "assert sha1(str(sorted(list(sample_dict.values()))).encode(\"utf-8\")+b\"f8c4918c597e5958\").hexdigest() == \"06773318d16784799daaaa2d7b75515531292b9c\", \"correct keys, but values of sample_dict are not correct\"\n",
    "assert sha1(str(sample_dict).encode(\"utf-8\")+b\"f8c4918c597e5958\").hexdigest() == \"2c559920542a9eae1afdf1de1baa43cdffd16cb0\", \"correct keys and values, but incorrect correspondence in keys and values of sample_dict\"\n",
    "\n",
    "print('Success!')"
   ]
  },
  {
   "cell_type": "markdown",
   "id": "7c66eaec",
   "metadata": {
    "deletable": false,
    "editable": false,
    "nbgrader": {
     "cell_type": "markdown",
     "checksum": "f388f831d206c9e306e01dbd3ede115f",
     "grade": false,
     "grade_id": "cell-415773d39cf1a418",
     "locked": true,
     "schema_version": 3,
     "solution": false,
     "task": false
    }
   },
   "source": [
    "### bool"
   ]
  },
  {
   "cell_type": "code",
   "execution_count": null,
   "id": "1ec2caec",
   "metadata": {
    "deletable": false,
    "nbgrader": {
     "cell_type": "code",
     "checksum": "28a4bd0b8bbe1fc892cf879d19439b6c",
     "grade": false,
     "grade_id": "cell-e807929d33f8deb6",
     "locked": false,
     "schema_version": 3,
     "solution": true,
     "task": false
    }
   },
   "outputs": [],
   "source": [
    "# sample_bool = True\n",
    "\n",
    "### BEGIN SOLUTION\n",
    "sample_bool = True\n",
    "### END SOLUTION"
   ]
  },
  {
   "cell_type": "code",
   "execution_count": null,
   "id": "bb91ba4e",
   "metadata": {
    "deletable": false,
    "editable": false,
    "nbgrader": {
     "cell_type": "code",
     "checksum": "adcf6ed74284766b81467e5df6c3c226",
     "grade": true,
     "grade_id": "cell-cf2f289017808ac8",
     "locked": true,
     "points": 0,
     "schema_version": 3,
     "solution": false,
     "task": false
    }
   },
   "outputs": [],
   "source": [
    "from hashlib import sha1\n",
    "assert str(type(sample_bool)) == \"<class 'bool'>\", \"type of sample_bool is not bool\"\n",
    "assert str(sample_bool) == \"True\", \"boolean value of sample_bool is not correct\"\n",
    "\n",
    "assert sha1(str(type(sample_bool)).encode(\"utf-8\")+b\"cd5d1b21c86535cf\").hexdigest() == \"b2392b92f7abda9bfaa56353b62f2ecba9621787\", \"type of sample_bool is not bool\"\n",
    "assert sha1(str(sample_bool).encode(\"utf-8\")+b\"cd5d1b21c86535cf\").hexdigest() == \"4e736129cdad6ee0bace988e9ed2b82b4ebe5465\", \"boolean value of sample_bool is not correct\"\n",
    "\n",
    "print('Success!')"
   ]
  },
  {
   "cell_type": "code",
   "execution_count": null,
   "id": "96b663ca",
   "metadata": {},
   "outputs": [],
   "source": []
  }
 ],
 "metadata": {
  "kernelspec": {
   "display_name": "Python 3 (ipykernel)",
   "language": "python",
   "name": "python3"
  },
  "language_info": {
   "codemirror_mode": {
    "name": "ipython",
    "version": 3
   },
   "file_extension": ".py",
   "mimetype": "text/x-python",
   "name": "python",
   "nbconvert_exporter": "python",
   "pygments_lexer": "ipython3",
   "version": "3.9.12"
  }
 },
 "nbformat": 4,
 "nbformat_minor": 5
}
